{
  "nbformat": 4,
  "nbformat_minor": 0,
  "metadata": {
    "colab": {
      "name": "P2M_Voltix_Code.ipynb",
      "provenance": [],
      "collapsed_sections": [],
      "toc_visible": true
    },
    "kernelspec": {
      "name": "python3",
      "display_name": "Python 3"
    }
  },
  "cells": [
    {
      "cell_type": "code",
      "metadata": {
        "colab": {
          "base_uri": "https://localhost:8080/"
        },
        "id": "osUmucEUSQ0t",
        "outputId": "0b0aa80d-7aec-478c-e4ca-4a0860a09a74"
      },
      "source": [
        "!pip install ruptures"
      ],
      "execution_count": 1,
      "outputs": [
        {
          "output_type": "stream",
          "text": [
            "Collecting ruptures\n",
            "\u001b[?25l  Downloading https://files.pythonhosted.org/packages/ad/09/54b5f77ddd15eaa4678da7073716deb2c21c992e6ec9b721c785603c2f9e/ruptures-1.1.3-cp37-cp37m-manylinux2010_x86_64.whl (919kB)\n",
            "\r\u001b[K     |▍                               | 10kB 14.1MB/s eta 0:00:01\r\u001b[K     |▊                               | 20kB 11.5MB/s eta 0:00:01\r\u001b[K     |█                               | 30kB 7.6MB/s eta 0:00:01\r\u001b[K     |█▍                              | 40kB 7.2MB/s eta 0:00:01\r\u001b[K     |█▉                              | 51kB 4.2MB/s eta 0:00:01\r\u001b[K     |██▏                             | 61kB 4.8MB/s eta 0:00:01\r\u001b[K     |██▌                             | 71kB 5.2MB/s eta 0:00:01\r\u001b[K     |██▉                             | 81kB 5.3MB/s eta 0:00:01\r\u001b[K     |███▏                            | 92kB 5.8MB/s eta 0:00:01\r\u001b[K     |███▋                            | 102kB 5.6MB/s eta 0:00:01\r\u001b[K     |████                            | 112kB 5.6MB/s eta 0:00:01\r\u001b[K     |████▎                           | 122kB 5.6MB/s eta 0:00:01\r\u001b[K     |████▋                           | 133kB 5.6MB/s eta 0:00:01\r\u001b[K     |█████                           | 143kB 5.6MB/s eta 0:00:01\r\u001b[K     |█████▍                          | 153kB 5.6MB/s eta 0:00:01\r\u001b[K     |█████▊                          | 163kB 5.6MB/s eta 0:00:01\r\u001b[K     |██████                          | 174kB 5.6MB/s eta 0:00:01\r\u001b[K     |██████▍                         | 184kB 5.6MB/s eta 0:00:01\r\u001b[K     |██████▊                         | 194kB 5.6MB/s eta 0:00:01\r\u001b[K     |███████▏                        | 204kB 5.6MB/s eta 0:00:01\r\u001b[K     |███████▌                        | 215kB 5.6MB/s eta 0:00:01\r\u001b[K     |███████▉                        | 225kB 5.6MB/s eta 0:00:01\r\u001b[K     |████████▏                       | 235kB 5.6MB/s eta 0:00:01\r\u001b[K     |████████▋                       | 245kB 5.6MB/s eta 0:00:01\r\u001b[K     |█████████                       | 256kB 5.6MB/s eta 0:00:01\r\u001b[K     |█████████▎                      | 266kB 5.6MB/s eta 0:00:01\r\u001b[K     |█████████▋                      | 276kB 5.6MB/s eta 0:00:01\r\u001b[K     |██████████                      | 286kB 5.6MB/s eta 0:00:01\r\u001b[K     |██████████▍                     | 296kB 5.6MB/s eta 0:00:01\r\u001b[K     |██████████▊                     | 307kB 5.6MB/s eta 0:00:01\r\u001b[K     |███████████                     | 317kB 5.6MB/s eta 0:00:01\r\u001b[K     |███████████▍                    | 327kB 5.6MB/s eta 0:00:01\r\u001b[K     |███████████▊                    | 337kB 5.6MB/s eta 0:00:01\r\u001b[K     |████████████▏                   | 348kB 5.6MB/s eta 0:00:01\r\u001b[K     |████████████▌                   | 358kB 5.6MB/s eta 0:00:01\r\u001b[K     |████████████▉                   | 368kB 5.6MB/s eta 0:00:01\r\u001b[K     |█████████████▏                  | 378kB 5.6MB/s eta 0:00:01\r\u001b[K     |█████████████▌                  | 389kB 5.6MB/s eta 0:00:01\r\u001b[K     |██████████████                  | 399kB 5.6MB/s eta 0:00:01\r\u001b[K     |██████████████▎                 | 409kB 5.6MB/s eta 0:00:01\r\u001b[K     |██████████████▋                 | 419kB 5.6MB/s eta 0:00:01\r\u001b[K     |███████████████                 | 430kB 5.6MB/s eta 0:00:01\r\u001b[K     |███████████████▎                | 440kB 5.6MB/s eta 0:00:01\r\u001b[K     |███████████████▊                | 450kB 5.6MB/s eta 0:00:01\r\u001b[K     |████████████████                | 460kB 5.6MB/s eta 0:00:01\r\u001b[K     |████████████████▍               | 471kB 5.6MB/s eta 0:00:01\r\u001b[K     |████████████████▊               | 481kB 5.6MB/s eta 0:00:01\r\u001b[K     |█████████████████▏              | 491kB 5.6MB/s eta 0:00:01\r\u001b[K     |█████████████████▌              | 501kB 5.6MB/s eta 0:00:01\r\u001b[K     |█████████████████▉              | 512kB 5.6MB/s eta 0:00:01\r\u001b[K     |██████████████████▏             | 522kB 5.6MB/s eta 0:00:01\r\u001b[K     |██████████████████▌             | 532kB 5.6MB/s eta 0:00:01\r\u001b[K     |███████████████████             | 542kB 5.6MB/s eta 0:00:01\r\u001b[K     |███████████████████▎            | 552kB 5.6MB/s eta 0:00:01\r\u001b[K     |███████████████████▋            | 563kB 5.6MB/s eta 0:00:01\r\u001b[K     |████████████████████            | 573kB 5.6MB/s eta 0:00:01\r\u001b[K     |████████████████████▎           | 583kB 5.6MB/s eta 0:00:01\r\u001b[K     |████████████████████▊           | 593kB 5.6MB/s eta 0:00:01\r\u001b[K     |█████████████████████           | 604kB 5.6MB/s eta 0:00:01\r\u001b[K     |█████████████████████▍          | 614kB 5.6MB/s eta 0:00:01\r\u001b[K     |█████████████████████▊          | 624kB 5.6MB/s eta 0:00:01\r\u001b[K     |██████████████████████          | 634kB 5.6MB/s eta 0:00:01\r\u001b[K     |██████████████████████▌         | 645kB 5.6MB/s eta 0:00:01\r\u001b[K     |██████████████████████▉         | 655kB 5.6MB/s eta 0:00:01\r\u001b[K     |███████████████████████▏        | 665kB 5.6MB/s eta 0:00:01\r\u001b[K     |███████████████████████▌        | 675kB 5.6MB/s eta 0:00:01\r\u001b[K     |███████████████████████▉        | 686kB 5.6MB/s eta 0:00:01\r\u001b[K     |████████████████████████▎       | 696kB 5.6MB/s eta 0:00:01\r\u001b[K     |████████████████████████▋       | 706kB 5.6MB/s eta 0:00:01\r\u001b[K     |█████████████████████████       | 716kB 5.6MB/s eta 0:00:01\r\u001b[K     |█████████████████████████▎      | 727kB 5.6MB/s eta 0:00:01\r\u001b[K     |█████████████████████████▊      | 737kB 5.6MB/s eta 0:00:01\r\u001b[K     |██████████████████████████      | 747kB 5.6MB/s eta 0:00:01\r\u001b[K     |██████████████████████████▍     | 757kB 5.6MB/s eta 0:00:01\r\u001b[K     |██████████████████████████▊     | 768kB 5.6MB/s eta 0:00:01\r\u001b[K     |███████████████████████████     | 778kB 5.6MB/s eta 0:00:01\r\u001b[K     |███████████████████████████▌    | 788kB 5.6MB/s eta 0:00:01\r\u001b[K     |███████████████████████████▉    | 798kB 5.6MB/s eta 0:00:01\r\u001b[K     |████████████████████████████▏   | 808kB 5.6MB/s eta 0:00:01\r\u001b[K     |████████████████████████████▌   | 819kB 5.6MB/s eta 0:00:01\r\u001b[K     |████████████████████████████▉   | 829kB 5.6MB/s eta 0:00:01\r\u001b[K     |█████████████████████████████▎  | 839kB 5.6MB/s eta 0:00:01\r\u001b[K     |█████████████████████████████▋  | 849kB 5.6MB/s eta 0:00:01\r\u001b[K     |██████████████████████████████  | 860kB 5.6MB/s eta 0:00:01\r\u001b[K     |██████████████████████████████▎ | 870kB 5.6MB/s eta 0:00:01\r\u001b[K     |██████████████████████████████▋ | 880kB 5.6MB/s eta 0:00:01\r\u001b[K     |███████████████████████████████ | 890kB 5.6MB/s eta 0:00:01\r\u001b[K     |███████████████████████████████▍| 901kB 5.6MB/s eta 0:00:01\r\u001b[K     |███████████████████████████████▊| 911kB 5.6MB/s eta 0:00:01\r\u001b[K     |████████████████████████████████| 921kB 5.6MB/s \n",
            "\u001b[?25hRequirement already satisfied: scipy in /usr/local/lib/python3.7/dist-packages (from ruptures) (1.4.1)\n",
            "Requirement already satisfied: numpy in /usr/local/lib/python3.7/dist-packages (from ruptures) (1.19.5)\n",
            "Installing collected packages: ruptures\n",
            "Successfully installed ruptures-1.1.3\n"
          ],
          "name": "stdout"
        }
      ]
    },
    {
      "cell_type": "code",
      "metadata": {
        "id": "DG3DQ5Z8012w"
      },
      "source": [
        "import pandas  as pd\n",
        "import numpy as np\n",
        "import matplotlib.pyplot as plt\n",
        "import seaborn as sns\n",
        "import ruptures as rpt\n",
        "from sklearn.preprocessing import LabelEncoder\n",
        "from sklearn.ensemble import RandomForestClassifier\n",
        "from sklearn.model_selection import train_test_split\n",
        "from sklearn.metrics import accuracy_score\n",
        "from time import *\n",
        "import re \n",
        "import math "
      ],
      "execution_count": 5,
      "outputs": []
    },
    {
      "cell_type": "code",
      "metadata": {
        "id": "ppCrDWwa1MQf"
      },
      "source": [
        "app = pd.read_csv('/content/Apps_signatures - Apps_signatures.csv',delimiter=';')"
      ],
      "execution_count": 6,
      "outputs": []
    },
    {
      "cell_type": "markdown",
      "metadata": {
        "id": "16evynjoPFlH"
      },
      "source": [
        "# ***Data Preprocessing***"
      ]
    },
    {
      "cell_type": "code",
      "metadata": {
        "colab": {
          "base_uri": "https://localhost:8080/",
          "height": 279
        },
        "id": "GXpncr-M1csa",
        "outputId": "9f864460-6633-441f-9868-2a0bfa3410c0"
      },
      "source": [
        "app.head()"
      ],
      "execution_count": 7,
      "outputs": [
        {
          "output_type": "execute_result",
          "data": {
            "text/html": [
              "<div>\n",
              "<style scoped>\n",
              "    .dataframe tbody tr th:only-of-type {\n",
              "        vertical-align: middle;\n",
              "    }\n",
              "\n",
              "    .dataframe tbody tr th {\n",
              "        vertical-align: top;\n",
              "    }\n",
              "\n",
              "    .dataframe thead th {\n",
              "        text-align: right;\n",
              "    }\n",
              "</style>\n",
              "<table border=\"1\" class=\"dataframe\">\n",
              "  <thead>\n",
              "    <tr style=\"text-align: right;\">\n",
              "      <th></th>\n",
              "      <th>date</th>\n",
              "      <th>RealP1</th>\n",
              "      <th>RealP2</th>\n",
              "      <th>RealP3</th>\n",
              "      <th>AppP1</th>\n",
              "      <th>AppP2</th>\n",
              "      <th>AppP3</th>\n",
              "      <th>Irms1</th>\n",
              "      <th>Irms2</th>\n",
              "      <th>Irms3</th>\n",
              "      <th>Vrms1</th>\n",
              "      <th>Vrms2</th>\n",
              "      <th>Vrms3</th>\n",
              "      <th>PowerF1</th>\n",
              "      <th>PowerF2</th>\n",
              "      <th>PowerF3</th>\n",
              "      <th>Appareil</th>\n",
              "    </tr>\n",
              "  </thead>\n",
              "  <tbody>\n",
              "    <tr>\n",
              "      <th>0</th>\n",
              "      <td>2019-08-02T16:41:21.518Z</td>\n",
              "      <td>-0.98</td>\n",
              "      <td>33.63</td>\n",
              "      <td>15.91</td>\n",
              "      <td>-0.98</td>\n",
              "      <td>64.67</td>\n",
              "      <td>85.06</td>\n",
              "      <td>0.17</td>\n",
              "      <td>0.25</td>\n",
              "      <td>0.32</td>\n",
              "      <td>262.22</td>\n",
              "      <td>261.16</td>\n",
              "      <td>262.44</td>\n",
              "      <td>0.000</td>\n",
              "      <td>0.510</td>\n",
              "      <td>0.176</td>\n",
              "      <td>Cafetière</td>\n",
              "    </tr>\n",
              "    <tr>\n",
              "      <th>1</th>\n",
              "      <td>2019-08-02T16:41:23.570Z</td>\n",
              "      <td>-2.87</td>\n",
              "      <td>41.41</td>\n",
              "      <td>13.84</td>\n",
              "      <td>-2.87</td>\n",
              "      <td>66.04</td>\n",
              "      <td>85.76</td>\n",
              "      <td>0.19</td>\n",
              "      <td>0.25</td>\n",
              "      <td>0.33</td>\n",
              "      <td>261.52</td>\n",
              "      <td>262.43</td>\n",
              "      <td>261.82</td>\n",
              "      <td>0.039</td>\n",
              "      <td>0.621</td>\n",
              "      <td>0.152</td>\n",
              "      <td>Cafetière</td>\n",
              "    </tr>\n",
              "    <tr>\n",
              "      <th>2</th>\n",
              "      <td>2019-08-02T16:41:25.623Z</td>\n",
              "      <td>-0.28</td>\n",
              "      <td>42.95</td>\n",
              "      <td>13.21</td>\n",
              "      <td>-0.28</td>\n",
              "      <td>85.55</td>\n",
              "      <td>89.84</td>\n",
              "      <td>0.17</td>\n",
              "      <td>0.33</td>\n",
              "      <td>0.34</td>\n",
              "      <td>262.15</td>\n",
              "      <td>260.99</td>\n",
              "      <td>262.34</td>\n",
              "      <td>0.000</td>\n",
              "      <td>0.491</td>\n",
              "      <td>0.145</td>\n",
              "      <td>Cafetière</td>\n",
              "    </tr>\n",
              "    <tr>\n",
              "      <th>3</th>\n",
              "      <td>2019-08-02T16:41:27.675Z</td>\n",
              "      <td>-0.37</td>\n",
              "      <td>40.84</td>\n",
              "      <td>13.67</td>\n",
              "      <td>-0.37</td>\n",
              "      <td>75.78</td>\n",
              "      <td>84.96</td>\n",
              "      <td>0.15</td>\n",
              "      <td>0.29</td>\n",
              "      <td>0.33</td>\n",
              "      <td>261.11</td>\n",
              "      <td>262.60</td>\n",
              "      <td>261.43</td>\n",
              "      <td>0.000</td>\n",
              "      <td>0.528</td>\n",
              "      <td>0.153</td>\n",
              "      <td>Cafetière</td>\n",
              "    </tr>\n",
              "    <tr>\n",
              "      <th>4</th>\n",
              "      <td>2019-08-02T16:41:29.728Z</td>\n",
              "      <td>-4.68</td>\n",
              "      <td>40.58</td>\n",
              "      <td>13.70</td>\n",
              "      <td>-4.68</td>\n",
              "      <td>70.35</td>\n",
              "      <td>89.85</td>\n",
              "      <td>0.19</td>\n",
              "      <td>0.27</td>\n",
              "      <td>0.34</td>\n",
              "      <td>262.15</td>\n",
              "      <td>261.29</td>\n",
              "      <td>262.20</td>\n",
              "      <td>0.080</td>\n",
              "      <td>0.569</td>\n",
              "      <td>0.145</td>\n",
              "      <td>Cafetière</td>\n",
              "    </tr>\n",
              "  </tbody>\n",
              "</table>\n",
              "</div>"
            ],
            "text/plain": [
              "                       date  RealP1  RealP2  ...  PowerF2  PowerF3   Appareil\n",
              "0  2019-08-02T16:41:21.518Z   -0.98   33.63  ...    0.510    0.176  Cafetière\n",
              "1  2019-08-02T16:41:23.570Z   -2.87   41.41  ...    0.621    0.152  Cafetière\n",
              "2  2019-08-02T16:41:25.623Z   -0.28   42.95  ...    0.491    0.145  Cafetière\n",
              "3  2019-08-02T16:41:27.675Z   -0.37   40.84  ...    0.528    0.153  Cafetière\n",
              "4  2019-08-02T16:41:29.728Z   -4.68   40.58  ...    0.569    0.145  Cafetière\n",
              "\n",
              "[5 rows x 17 columns]"
            ]
          },
          "metadata": {
            "tags": []
          },
          "execution_count": 7
        }
      ]
    },
    {
      "cell_type": "code",
      "metadata": {
        "id": "MIOysTv66zUa"
      },
      "source": [
        "#Calculer les puissances,l'energie,l'intensité totales.\n",
        "app['RealP_tot'] = app['RealP1'] + app['RealP2'] + app['RealP3']\n",
        "app['AppP_tot'] = app['AppP1'] + app['AppP2'] + app['AppP3']\n",
        "app['Irms_tot'] = app['Irms1'] + app['Irms2'] + app['Irms3']\n",
        "app['Vrms_tot'] = app['Vrms1'] + app['Vrms2'] + app['Vrms3']\n",
        "app['PowerF_tot'] = app['PowerF1'] + app['PowerF2'] + app['PowerF3']"
      ],
      "execution_count": 8,
      "outputs": []
    },
    {
      "cell_type": "code",
      "metadata": {
        "colab": {
          "base_uri": "https://localhost:8080/"
        },
        "id": "itpZJIum2_y5",
        "outputId": "5ffe1e0c-eea2-4cc5-ddec-76399a4c53ee"
      },
      "source": [
        "app.columns"
      ],
      "execution_count": 9,
      "outputs": [
        {
          "output_type": "execute_result",
          "data": {
            "text/plain": [
              "Index(['date', 'RealP1', 'RealP2', 'RealP3', 'AppP1', 'AppP2', 'AppP3',\n",
              "       'Irms1', 'Irms2', 'Irms3', 'Vrms1', 'Vrms2', 'Vrms3', 'PowerF1',\n",
              "       'PowerF2', 'PowerF3', 'Appareil', 'RealP_tot', 'AppP_tot', 'Irms_tot',\n",
              "       'Vrms_tot', 'PowerF_tot'],\n",
              "      dtype='object')"
            ]
          },
          "metadata": {
            "tags": []
          },
          "execution_count": 9
        }
      ]
    },
    {
      "cell_type": "code",
      "metadata": {
        "id": "6V7mxdtM28zb"
      },
      "source": [
        "app.drop(['RealP1', 'RealP2', 'RealP3', 'AppP1', 'AppP2', 'AppP3',\n",
        "       'Irms1', 'Irms2', 'Irms3', 'Vrms1', 'Vrms2', 'Vrms3', 'PowerF1',\n",
        "       'PowerF2', 'PowerF3'],1,inplace=True)"
      ],
      "execution_count": 10,
      "outputs": []
    },
    {
      "cell_type": "code",
      "metadata": {
        "id": "rMYve88nilOx"
      },
      "source": [
        "#puisque P = I * V on décide de supprimer  V (ou I c'st la méme chose)\n",
        "app.drop(['Vrms_tot'],axis=1,inplace=True) "
      ],
      "execution_count": 11,
      "outputs": []
    },
    {
      "cell_type": "code",
      "metadata": {
        "colab": {
          "base_uri": "https://localhost:8080/"
        },
        "id": "48jn14H-jjyq",
        "outputId": "bb07066e-518e-4789-c604-7add9568f33f"
      },
      "source": [
        "#Lister les appareils disponibles.\n",
        "app.Appareil.unique()"
      ],
      "execution_count": 12,
      "outputs": [
        {
          "output_type": "execute_result",
          "data": {
            "text/plain": [
              "array(['Cafetière', 'ClimatiseurA', 'ClimatiseurB', 'Imprimante',\n",
              "       'Micro-ondesB', 'Micro-ondesA', 'Réfrigérateur'], dtype=object)"
            ]
          },
          "metadata": {
            "tags": []
          },
          "execution_count": 12
        }
      ]
    },
    {
      "cell_type": "code",
      "metadata": {
        "id": "_KohIG67jooj"
      },
      "source": [
        "#Liste des appareils\n",
        "apps = ['Cafetière', 'ClimatiseurA', 'ClimatiseurB', 'Imprimante',\n",
        "       'Micro-ondesB', 'Micro-ondesA', 'Réfrigérateur']"
      ],
      "execution_count": 13,
      "outputs": []
    },
    {
      "cell_type": "code",
      "metadata": {
        "colab": {
          "base_uri": "https://localhost:8080/"
        },
        "id": "QmD_JjwYkMe1",
        "outputId": "effbf4a8-1956-4e02-efd9-1523f86c18e6"
      },
      "source": [
        "print(app.RealP_tot.min())\n",
        "print(app.RealP_tot.max())\n",
        "print(app.PowerF_tot.min())\n",
        "print(app.PowerF_tot.max())"
      ],
      "execution_count": 14,
      "outputs": [
        {
          "output_type": "stream",
          "text": [
            "34.59\n",
            "2179.58\n",
            "0.547\n",
            "1.879\n"
          ],
          "name": "stdout"
        }
      ]
    },
    {
      "cell_type": "code",
      "metadata": {
        "id": "ZPROR4BnqDkf"
      },
      "source": [
        "#Calculer le Facteur Puissance (FP) ( entre 0 et 1)\n",
        "app['FP'] = app['RealP_tot'] / app['AppP_tot']"
      ],
      "execution_count": 15,
      "outputs": []
    },
    {
      "cell_type": "code",
      "metadata": {
        "colab": {
          "base_uri": "https://localhost:8080/"
        },
        "id": "_1jexdO8sBuv",
        "outputId": "b184712c-493b-4373-f18a-769beea28dc3"
      },
      "source": [
        "#Compter le nombre de ligne par appareil.\n",
        "app.groupby('Appareil').size()"
      ],
      "execution_count": 16,
      "outputs": [
        {
          "output_type": "execute_result",
          "data": {
            "text/plain": [
              "Appareil\n",
              "Cafetière        626\n",
              "ClimatiseurA     498\n",
              "ClimatiseurB     424\n",
              "Imprimante       240\n",
              "Micro-ondesA     420\n",
              "Micro-ondesB     356\n",
              "Réfrigérateur    844\n",
              "dtype: int64"
            ]
          },
          "metadata": {
            "tags": []
          },
          "execution_count": 16
        }
      ]
    },
    {
      "cell_type": "code",
      "metadata": {
        "colab": {
          "base_uri": "https://localhost:8080/"
        },
        "id": "nZsbWywpsBsU",
        "outputId": "b4c85533-871e-4007-994e-b965a80cf8c4"
      },
      "source": [
        "#Nombre de ligne dupliquées\n",
        "app.duplicated().sum()"
      ],
      "execution_count": 17,
      "outputs": [
        {
          "output_type": "execute_result",
          "data": {
            "text/plain": [
              "0"
            ]
          },
          "metadata": {
            "tags": []
          },
          "execution_count": 17
        }
      ]
    },
    {
      "cell_type": "code",
      "metadata": {
        "colab": {
          "base_uri": "https://localhost:8080/"
        },
        "id": "QERuxtlwsBpu",
        "outputId": "0ac0b374-9ef4-4b94-b1c3-0e61c35aedc4"
      },
      "source": [
        "app.info()"
      ],
      "execution_count": 18,
      "outputs": [
        {
          "output_type": "stream",
          "text": [
            "<class 'pandas.core.frame.DataFrame'>\n",
            "RangeIndex: 3408 entries, 0 to 3407\n",
            "Data columns (total 7 columns):\n",
            " #   Column      Non-Null Count  Dtype  \n",
            "---  ------      --------------  -----  \n",
            " 0   date        3408 non-null   object \n",
            " 1   Appareil    3408 non-null   object \n",
            " 2   RealP_tot   3408 non-null   float64\n",
            " 3   AppP_tot    3408 non-null   float64\n",
            " 4   Irms_tot    3408 non-null   float64\n",
            " 5   PowerF_tot  3408 non-null   float64\n",
            " 6   FP          3408 non-null   float64\n",
            "dtypes: float64(5), object(2)\n",
            "memory usage: 186.5+ KB\n"
          ],
          "name": "stdout"
        }
      ]
    },
    {
      "cell_type": "code",
      "metadata": {
        "colab": {
          "base_uri": "https://localhost:8080/",
          "height": 1000
        },
        "id": "vwrDNdlbjSIB",
        "outputId": "10498c59-e5a9-4c85-e7fe-64aca5207db6"
      },
      "source": [
        "#visualiser la consommation de chaque appareil en fonction du temps.\n",
        "for ap in apps:\n",
        "    x = app[app['Appareil']==ap]\n",
        "    pt = x['RealP_tot']\n",
        "    dt = pd.to_datetime(x.date).dt.minute + pd.to_datetime(x.date).dt.hour * 60\n",
        "    plt.plot(dt,pt)\n",
        "    plt.xlabel('Date')\n",
        "    plt.ylabel('Puissance réele')\n",
        "    plt.title(ap)\n",
        "    plt.show()"
      ],
      "execution_count": 19,
      "outputs": [
        {
          "output_type": "display_data",
          "data": {
            "image/png": "[encoded data removed]",
            "text/plain": [
              "<Figure size 432x288 with 1 Axes>"
            ]
          },
          "metadata": {
            "tags": [],
            "needs_background": "light"
          }
        },
        {
          "output_type": "display_data",
          "data": {
            "image/png": "[encoded data removed]",
            "text/plain": [
              "<Figure size 432x288 with 1 Axes>"
            ]
          },
          "metadata": {
            "tags": [],
            "needs_background": "light"
          }
        },
        {
          "output_type": "display_data",
          "data": {
            "image/png": "[encoded data removed]",
            "text/plain": [
              "<Figure size 432x288 with 1 Axes>"
            ]
          },
          "metadata": {
            "tags": [],
            "needs_background": "light"
          }
        },
        {
          "output_type": "display_data",
          "data": {
            "image/png": "[encoded data removed]",
            "text/plain": [
              "<Figure size 432x288 with 1 Axes>"
            ]
          },
          "metadata": {
            "tags": [],
            "needs_background": "light"
          }
        },
        {
          "output_type": "display_data",
          "data": {
            "image/png": "[encoded data removed]",
            "text/plain": [
              "<Figure size 432x288 with 1 Axes>"
            ]
          },
          "metadata": {
            "tags": [],
            "needs_background": "light"
          }
        },
        {
          "output_type": "display_data",
          "data": {
            "image/png": "[encoded data removed]",
            "text/plain": [
              "<Figure size 432x288 with 1 Axes>"
            ]
          },
          "metadata": {
            "tags": [],
            "needs_background": "light"
          }
        },
        {
          "output_type": "display_data",
          "data": {
            "image/png": "[encoded data removed]",
            "text/plain": [
              "<Figure size 432x288 with 1 Axes>"
            ]
          },
          "metadata": {
            "tags": [],
            "needs_background": "light"
          }
        }
      ]
    },
    {
      "cell_type": "code",
      "metadata": {
        "id": "I1vkU5fwQHKi"
      },
      "source": [
        "#les variables suivant peuvent étre utiles si les données couvrent une grande durée de temps(3 mois ou plus par exp)\n",
        "#new_app['day_week'] = pd.to_datetime(new_app.date).dt.dayofweek\n",
        "#new_app['day'] = pd.to_datetime(new_app.date).dt.day\n",
        "#new_app['month'] = pd.to_datetime(new_app.date).dt.month\n",
        "#Pour l'utiliser a la phase de détection des événement\n",
        "app['hour'] = pd.to_datetime(app.date).dt.hour\n",
        "app['minute'] = pd.to_datetime(app.date).dt.minute"
      ],
      "execution_count": 20,
      "outputs": []
    },
    {
      "cell_type": "code",
      "metadata": {
        "colab": {
          "base_uri": "https://localhost:8080/",
          "height": 195
        },
        "id": "g3XHdNAntV1w",
        "outputId": "bd5bc0f5-e9c6-43e4-dcc6-5956d6b92cac"
      },
      "source": [
        "app.head()"
      ],
      "execution_count": 21,
      "outputs": [
        {
          "output_type": "execute_result",
          "data": {
            "text/html": [
              "<div>\n",
              "<style scoped>\n",
              "    .dataframe tbody tr th:only-of-type {\n",
              "        vertical-align: middle;\n",
              "    }\n",
              "\n",
              "    .dataframe tbody tr th {\n",
              "        vertical-align: top;\n",
              "    }\n",
              "\n",
              "    .dataframe thead th {\n",
              "        text-align: right;\n",
              "    }\n",
              "</style>\n",
              "<table border=\"1\" class=\"dataframe\">\n",
              "  <thead>\n",
              "    <tr style=\"text-align: right;\">\n",
              "      <th></th>\n",
              "      <th>date</th>\n",
              "      <th>Appareil</th>\n",
              "      <th>RealP_tot</th>\n",
              "      <th>AppP_tot</th>\n",
              "      <th>Irms_tot</th>\n",
              "      <th>PowerF_tot</th>\n",
              "      <th>FP</th>\n",
              "      <th>hour</th>\n",
              "      <th>minute</th>\n",
              "    </tr>\n",
              "  </thead>\n",
              "  <tbody>\n",
              "    <tr>\n",
              "      <th>0</th>\n",
              "      <td>2019-08-02T16:41:21.518Z</td>\n",
              "      <td>Cafetière</td>\n",
              "      <td>48.56</td>\n",
              "      <td>148.75</td>\n",
              "      <td>0.74</td>\n",
              "      <td>0.686</td>\n",
              "      <td>0.326454</td>\n",
              "      <td>16</td>\n",
              "      <td>41</td>\n",
              "    </tr>\n",
              "    <tr>\n",
              "      <th>1</th>\n",
              "      <td>2019-08-02T16:41:23.570Z</td>\n",
              "      <td>Cafetière</td>\n",
              "      <td>52.38</td>\n",
              "      <td>148.93</td>\n",
              "      <td>0.77</td>\n",
              "      <td>0.812</td>\n",
              "      <td>0.351709</td>\n",
              "      <td>16</td>\n",
              "      <td>41</td>\n",
              "    </tr>\n",
              "    <tr>\n",
              "      <th>2</th>\n",
              "      <td>2019-08-02T16:41:25.623Z</td>\n",
              "      <td>Cafetière</td>\n",
              "      <td>55.88</td>\n",
              "      <td>175.11</td>\n",
              "      <td>0.84</td>\n",
              "      <td>0.636</td>\n",
              "      <td>0.319114</td>\n",
              "      <td>16</td>\n",
              "      <td>41</td>\n",
              "    </tr>\n",
              "    <tr>\n",
              "      <th>3</th>\n",
              "      <td>2019-08-02T16:41:27.675Z</td>\n",
              "      <td>Cafetière</td>\n",
              "      <td>54.14</td>\n",
              "      <td>160.37</td>\n",
              "      <td>0.77</td>\n",
              "      <td>0.681</td>\n",
              "      <td>0.337594</td>\n",
              "      <td>16</td>\n",
              "      <td>41</td>\n",
              "    </tr>\n",
              "    <tr>\n",
              "      <th>4</th>\n",
              "      <td>2019-08-02T16:41:29.728Z</td>\n",
              "      <td>Cafetière</td>\n",
              "      <td>49.60</td>\n",
              "      <td>155.52</td>\n",
              "      <td>0.80</td>\n",
              "      <td>0.794</td>\n",
              "      <td>0.318930</td>\n",
              "      <td>16</td>\n",
              "      <td>41</td>\n",
              "    </tr>\n",
              "  </tbody>\n",
              "</table>\n",
              "</div>"
            ],
            "text/plain": [
              "                       date   Appareil  RealP_tot  ...        FP  hour  minute\n",
              "0  2019-08-02T16:41:21.518Z  Cafetière      48.56  ...  0.326454    16      41\n",
              "1  2019-08-02T16:41:23.570Z  Cafetière      52.38  ...  0.351709    16      41\n",
              "2  2019-08-02T16:41:25.623Z  Cafetière      55.88  ...  0.319114    16      41\n",
              "3  2019-08-02T16:41:27.675Z  Cafetière      54.14  ...  0.337594    16      41\n",
              "4  2019-08-02T16:41:29.728Z  Cafetière      49.60  ...  0.318930    16      41\n",
              "\n",
              "[5 rows x 9 columns]"
            ]
          },
          "metadata": {
            "tags": []
          },
          "execution_count": 21
        }
      ]
    },
    {
      "cell_type": "code",
      "metadata": {
        "id": "PTzIvfDzaYAZ"
      },
      "source": [
        "#Remarque :\n",
        "###RealP_tot:'PuissanceActive'\n",
        "###AppP_tot :'PuissanceApparente'\n",
        "####Vrms_tot : 'Energie_totale'\n",
        "###Irms_tot:'Intensité'"
      ],
      "execution_count": 22,
      "outputs": []
    },
    {
      "cell_type": "code",
      "metadata": {
        "id": "YiFszlr6vKCh"
      },
      "source": [
        "#Travailler sur une copie de données\n",
        "app1 = app.copy()"
      ],
      "execution_count": 23,
      "outputs": []
    },
    {
      "cell_type": "code",
      "metadata": {
        "id": "5eXTIJPgvSQb"
      },
      "source": [
        "#Convertir la colonne 'Appareil' en données numériques\n",
        "le = LabelEncoder()\n",
        "app1['Appareil'] = le.fit_transform(app1['Appareil'])"
      ],
      "execution_count": 24,
      "outputs": []
    },
    {
      "cell_type": "code",
      "metadata": {
        "colab": {
          "base_uri": "https://localhost:8080/"
        },
        "id": "HHy3RGMrwLmw",
        "outputId": "7c3a8619-d4ac-4d66-ce00-a860995374b8"
      },
      "source": [
        "le.classes_"
      ],
      "execution_count": 25,
      "outputs": [
        {
          "output_type": "execute_result",
          "data": {
            "text/plain": [
              "array(['Cafetière', 'ClimatiseurA', 'ClimatiseurB', 'Imprimante',\n",
              "       'Micro-ondesA', 'Micro-ondesB', 'Réfrigérateur'], dtype=object)"
            ]
          },
          "metadata": {
            "tags": []
          },
          "execution_count": 25
        }
      ]
    },
    {
      "cell_type": "code",
      "metadata": {
        "id": "szdCLfwn_xjv"
      },
      "source": [
        "#Liste d'appareils selon l'encodage\n",
        "Appareils = ['Cafetière', 'ClimatiseurA', 'ClimatiseurB', 'Imprimante','Micro-ondesA', 'Micro-ondesB', 'Réfrigérateur']"
      ],
      "execution_count": 26,
      "outputs": []
    },
    {
      "cell_type": "code",
      "metadata": {
        "colab": {
          "base_uri": "https://localhost:8080/",
          "height": 331
        },
        "id": "F4CED_5tvh-I",
        "outputId": "615178d2-b5f3-4931-c0c1-6bf87c7230a2"
      },
      "source": [
        "sns.heatmap(app1.corr(), annot=True, fmt=\".1f\",annot_kws={'size':10},square=True)"
      ],
      "execution_count": 27,
      "outputs": [
        {
          "output_type": "execute_result",
          "data": {
            "text/plain": [
              "<matplotlib.axes._subplots.AxesSubplot at 0x7fb2b0f1d750>"
            ]
          },
          "metadata": {
            "tags": []
          },
          "execution_count": 27
        },
        {
          "output_type": "display_data",
          "data": {
            "image/png": "[encoded data removed]",
            "text/plain": [
              "<Figure size 432x288 with 2 Axes>"
            ]
          },
          "metadata": {
            "tags": [],
            "needs_background": "light"
          }
        }
      ]
    },
    {
      "cell_type": "code",
      "metadata": {
        "id": "eivSHydNv8uB"
      },
      "source": [
        "#Calculer la puissance réactive\n",
        "app1['P_reactive'] = app1['AppP_tot']**2 - app1['RealP_tot']**2 \n",
        "app['P_reactive'] = app['AppP_tot']**2 - app['RealP_tot']**2 "
      ],
      "execution_count": 28,
      "outputs": []
    },
    {
      "cell_type": "code",
      "metadata": {
        "id": "Dllm4zw8vnFj"
      },
      "source": [
        "#On supprime 'AppP_tot' puisqu'il est totalement corrélée aux deux autres variables\n",
        "app1.drop(['AppP_tot'],1,inplace=True)\n",
        "app.drop(['AppP_tot'],1,inplace=True)"
      ],
      "execution_count": 29,
      "outputs": []
    },
    {
      "cell_type": "code",
      "metadata": {
        "id": "ze9NJiRoIB-y"
      },
      "source": [
        "app1['date1'] = app1['hour'] * 60 + app1['minute']\n",
        "app['date1'] = app['hour'] * 60 + app['minute']"
      ],
      "execution_count": 30,
      "outputs": []
    },
    {
      "cell_type": "code",
      "metadata": {
        "colab": {
          "base_uri": "https://localhost:8080/",
          "height": 331
        },
        "id": "0YZzN5wAwJ4k",
        "outputId": "e87da6ab-bc64-46b9-808c-c0ba4f2dff8f"
      },
      "source": [
        "sns.heatmap(app1.corr(), annot=True, fmt=\".1f\",annot_kws={'size':10},square=True)"
      ],
      "execution_count": 31,
      "outputs": [
        {
          "output_type": "execute_result",
          "data": {
            "text/plain": [
              "<matplotlib.axes._subplots.AxesSubplot at 0x7fb2a765e7d0>"
            ]
          },
          "metadata": {
            "tags": []
          },
          "execution_count": 31
        },
        {
          "output_type": "display_data",
          "data": {
            "image/png": "[encoded data removed]",
            "text/plain": [
              "<Figure size 432x288 with 2 Axes>"
            ]
          },
          "metadata": {
            "tags": [],
            "needs_background": "light"
          }
        }
      ]
    },
    {
      "cell_type": "markdown",
      "metadata": {
        "id": "aX7bRQKwOtvb"
      },
      "source": [
        "# ***Model Classification***"
      ]
    },
    {
      "cell_type": "code",
      "metadata": {
        "id": "mTwVT2ZRPOM5",
        "colab": {
          "base_uri": "https://localhost:8080/",
          "height": 195
        },
        "outputId": "fb06b239-c62e-4c1d-d809-5d73fc6daa06"
      },
      "source": [
        "#on utilise une copie de données\n",
        "app1.head()"
      ],
      "execution_count": 32,
      "outputs": [
        {
          "output_type": "execute_result",
          "data": {
            "text/html": [
              "<div>\n",
              "<style scoped>\n",
              "    .dataframe tbody tr th:only-of-type {\n",
              "        vertical-align: middle;\n",
              "    }\n",
              "\n",
              "    .dataframe tbody tr th {\n",
              "        vertical-align: top;\n",
              "    }\n",
              "\n",
              "    .dataframe thead th {\n",
              "        text-align: right;\n",
              "    }\n",
              "</style>\n",
              "<table border=\"1\" class=\"dataframe\">\n",
              "  <thead>\n",
              "    <tr style=\"text-align: right;\">\n",
              "      <th></th>\n",
              "      <th>date</th>\n",
              "      <th>Appareil</th>\n",
              "      <th>RealP_tot</th>\n",
              "      <th>Irms_tot</th>\n",
              "      <th>PowerF_tot</th>\n",
              "      <th>FP</th>\n",
              "      <th>hour</th>\n",
              "      <th>minute</th>\n",
              "      <th>P_reactive</th>\n",
              "      <th>date1</th>\n",
              "    </tr>\n",
              "  </thead>\n",
              "  <tbody>\n",
              "    <tr>\n",
              "      <th>0</th>\n",
              "      <td>2019-08-02T16:41:21.518Z</td>\n",
              "      <td>0</td>\n",
              "      <td>48.56</td>\n",
              "      <td>0.74</td>\n",
              "      <td>0.686</td>\n",
              "      <td>0.326454</td>\n",
              "      <td>16</td>\n",
              "      <td>41</td>\n",
              "      <td>19768.4889</td>\n",
              "      <td>1001</td>\n",
              "    </tr>\n",
              "    <tr>\n",
              "      <th>1</th>\n",
              "      <td>2019-08-02T16:41:23.570Z</td>\n",
              "      <td>0</td>\n",
              "      <td>52.38</td>\n",
              "      <td>0.77</td>\n",
              "      <td>0.812</td>\n",
              "      <td>0.351709</td>\n",
              "      <td>16</td>\n",
              "      <td>41</td>\n",
              "      <td>19436.4805</td>\n",
              "      <td>1001</td>\n",
              "    </tr>\n",
              "    <tr>\n",
              "      <th>2</th>\n",
              "      <td>2019-08-02T16:41:25.623Z</td>\n",
              "      <td>0</td>\n",
              "      <td>55.88</td>\n",
              "      <td>0.84</td>\n",
              "      <td>0.636</td>\n",
              "      <td>0.319114</td>\n",
              "      <td>16</td>\n",
              "      <td>41</td>\n",
              "      <td>27540.9377</td>\n",
              "      <td>1001</td>\n",
              "    </tr>\n",
              "    <tr>\n",
              "      <th>3</th>\n",
              "      <td>2019-08-02T16:41:27.675Z</td>\n",
              "      <td>0</td>\n",
              "      <td>54.14</td>\n",
              "      <td>0.77</td>\n",
              "      <td>0.681</td>\n",
              "      <td>0.337594</td>\n",
              "      <td>16</td>\n",
              "      <td>41</td>\n",
              "      <td>22787.3973</td>\n",
              "      <td>1001</td>\n",
              "    </tr>\n",
              "    <tr>\n",
              "      <th>4</th>\n",
              "      <td>2019-08-02T16:41:29.728Z</td>\n",
              "      <td>0</td>\n",
              "      <td>49.60</td>\n",
              "      <td>0.80</td>\n",
              "      <td>0.794</td>\n",
              "      <td>0.318930</td>\n",
              "      <td>16</td>\n",
              "      <td>41</td>\n",
              "      <td>21726.3104</td>\n",
              "      <td>1001</td>\n",
              "    </tr>\n",
              "  </tbody>\n",
              "</table>\n",
              "</div>"
            ],
            "text/plain": [
              "                       date  Appareil  RealP_tot  ...  minute  P_reactive  date1\n",
              "0  2019-08-02T16:41:21.518Z         0      48.56  ...      41  19768.4889   1001\n",
              "1  2019-08-02T16:41:23.570Z         0      52.38  ...      41  19436.4805   1001\n",
              "2  2019-08-02T16:41:25.623Z         0      55.88  ...      41  27540.9377   1001\n",
              "3  2019-08-02T16:41:27.675Z         0      54.14  ...      41  22787.3973   1001\n",
              "4  2019-08-02T16:41:29.728Z         0      49.60  ...      41  21726.3104   1001\n",
              "\n",
              "[5 rows x 10 columns]"
            ]
          },
          "metadata": {
            "tags": []
          },
          "execution_count": 32
        }
      ]
    },
    {
      "cell_type": "code",
      "metadata": {
        "id": "J3zsmm2cMmg1"
      },
      "source": [
        "app1.drop(['date'],1,inplace=True)"
      ],
      "execution_count": 33,
      "outputs": []
    },
    {
      "cell_type": "code",
      "metadata": {
        "colab": {
          "base_uri": "https://localhost:8080/"
        },
        "id": "PmNXbbW-Pdrd",
        "outputId": "60f7b77f-88fa-4bfd-a1ed-6705fb06fa1f"
      },
      "source": [
        "app1.Appareil.value_counts()"
      ],
      "execution_count": 34,
      "outputs": [
        {
          "output_type": "execute_result",
          "data": {
            "text/plain": [
              "6    844\n",
              "0    626\n",
              "1    498\n",
              "2    424\n",
              "4    420\n",
              "5    356\n",
              "3    240\n",
              "Name: Appareil, dtype: int64"
            ]
          },
          "metadata": {
            "tags": []
          },
          "execution_count": 34
        }
      ]
    },
    {
      "cell_type": "code",
      "metadata": {
        "id": "xQBgJJQzMIws"
      },
      "source": [
        "#On standarise les données par 'standard scaler'\n",
        "#liste des colonnes a stadarisé \n",
        "lis = ['RealP_tot','Irms_tot','PowerF_tot','hour','FP','minute','P_reactive','date1']\n",
        "from sklearn.preprocessing import StandardScaler\n",
        "scaler = StandardScaler()"
      ],
      "execution_count": 37,
      "outputs": []
    },
    {
      "cell_type": "code",
      "metadata": {
        "id": "Aj77QVfDMMVq"
      },
      "source": [
        "for each in lis:\n",
        "  app[each] = scaler.fit_transform(np.array(app[each]).reshape(-1,1))\n",
        "  app1[each] = scaler.fit_transform(np.array(app1[each]).reshape(-1,1))"
      ],
      "execution_count": 38,
      "outputs": []
    },
    {
      "cell_type": "code",
      "metadata": {
        "id": "HaVZW88TMMMf"
      },
      "source": [
        "#app1 = app1.sample(frac = 1) "
      ],
      "execution_count": 39,
      "outputs": []
    },
    {
      "cell_type": "code",
      "metadata": {
        "id": "RfIR2vn7RPb4"
      },
      "source": [
        "y = app1.Appareil\n",
        "x = app1.drop(['Appareil'],1)"
      ],
      "execution_count": 40,
      "outputs": []
    },
    {
      "cell_type": "code",
      "metadata": {
        "id": "W8RmxCwKRdaA"
      },
      "source": [
        "x_train,x_val,y_train,y_val = train_test_split(x,y,test_size=0.2,random_state=42)"
      ],
      "execution_count": 41,
      "outputs": []
    },
    {
      "cell_type": "code",
      "metadata": {
        "id": "hBSeikTxbpCv"
      },
      "source": [
        "#cross validation\n",
        "from sklearn.model_selection import cross_val_score"
      ],
      "execution_count": 42,
      "outputs": []
    },
    {
      "cell_type": "code",
      "metadata": {
        "id": "KL1JtHJdvzV7"
      },
      "source": [
        "#Modéle1"
      ],
      "execution_count": 51,
      "outputs": []
    },
    {
      "cell_type": "code",
      "metadata": {
        "id": "yPbCg0PWQWcm"
      },
      "source": [
        "rfr = RandomForestClassifier(n_estimators=200,max_depth=15,random_state=42,criterion='entropy')"
      ],
      "execution_count": 43,
      "outputs": []
    },
    {
      "cell_type": "code",
      "metadata": {
        "colab": {
          "base_uri": "https://localhost:8080/"
        },
        "id": "ivnLOgUVb-_U",
        "outputId": "89cfde1a-5096-4784-842d-95fe40f42ba1"
      },
      "source": [
        "scores = cross_val_score(rfr, x, y, cv=10)\n",
        "scores"
      ],
      "execution_count": 44,
      "outputs": [
        {
          "output_type": "execute_result",
          "data": {
            "text/plain": [
              "array([0.8973607 , 1.        , 1.        , 1.        , 1.        ,\n",
              "       1.        , 1.        , 1.        , 1.        , 0.98529412])"
            ]
          },
          "metadata": {
            "tags": []
          },
          "execution_count": 44
        }
      ]
    },
    {
      "cell_type": "code",
      "metadata": {
        "colab": {
          "base_uri": "https://localhost:8080/"
        },
        "id": "tT4_P-RLRq_1",
        "outputId": "dfa0975e-ab23-446b-8f83-4557989981ef"
      },
      "source": [
        "rfr.fit(x_train,y_train)"
      ],
      "execution_count": 45,
      "outputs": [
        {
          "output_type": "execute_result",
          "data": {
            "text/plain": [
              "RandomForestClassifier(bootstrap=True, ccp_alpha=0.0, class_weight=None,\n",
              "                       criterion='entropy', max_depth=15, max_features='auto',\n",
              "                       max_leaf_nodes=None, max_samples=None,\n",
              "                       min_impurity_decrease=0.0, min_impurity_split=None,\n",
              "                       min_samples_leaf=1, min_samples_split=2,\n",
              "                       min_weight_fraction_leaf=0.0, n_estimators=200,\n",
              "                       n_jobs=None, oob_score=False, random_state=42, verbose=0,\n",
              "                       warm_start=False)"
            ]
          },
          "metadata": {
            "tags": []
          },
          "execution_count": 45
        }
      ]
    },
    {
      "cell_type": "code",
      "metadata": {
        "id": "RSHcpERvRueY"
      },
      "source": [
        "y_pred = rfr.predict(x_val)"
      ],
      "execution_count": 46,
      "outputs": []
    },
    {
      "cell_type": "code",
      "metadata": {
        "colab": {
          "base_uri": "https://localhost:8080/"
        },
        "id": "8e5cBGalR08c",
        "outputId": "751a56da-8c33-4f0b-90dd-756d837f29c8"
      },
      "source": [
        "accuracy_score(y_pred,y_val)"
      ],
      "execution_count": 47,
      "outputs": [
        {
          "output_type": "execute_result",
          "data": {
            "text/plain": [
              "0.9970674486803519"
            ]
          },
          "metadata": {
            "tags": []
          },
          "execution_count": 47
        }
      ]
    },
    {
      "cell_type": "code",
      "metadata": {
        "id": "2V0iB6Gfv2I_"
      },
      "source": [
        "#Modéle2"
      ],
      "execution_count": 52,
      "outputs": []
    },
    {
      "cell_type": "code",
      "metadata": {
        "id": "DliH_K-bccye"
      },
      "source": [
        "#KNN\n",
        "from sklearn.neighbors import KNeighborsClassifier"
      ],
      "execution_count": 48,
      "outputs": []
    },
    {
      "cell_type": "code",
      "metadata": {
        "colab": {
          "base_uri": "https://localhost:8080/"
        },
        "id": "QjUrBi8uccvN",
        "outputId": "c4580be2-a055-432e-bdd2-0825e0e7a8b3"
      },
      "source": [
        "for k in range(3,16):\n",
        "  knn = KNeighborsClassifier(n_neighbors=3)\n",
        "  knn.fit(x_train, y_train)\n",
        "  print(knn.score(x_val, y_val))"
      ],
      "execution_count": 49,
      "outputs": [
        {
          "output_type": "stream",
          "text": [
            "0.9970674486803519\n",
            "0.9970674486803519\n",
            "0.9970674486803519\n",
            "0.9970674486803519\n",
            "0.9970674486803519\n",
            "0.9970674486803519\n",
            "0.9970674486803519\n",
            "0.9970674486803519\n",
            "0.9970674486803519\n",
            "0.9970674486803519\n",
            "0.9970674486803519\n",
            "0.9970674486803519\n",
            "0.9970674486803519\n"
          ],
          "name": "stdout"
        }
      ]
    },
    {
      "cell_type": "code",
      "metadata": {
        "id": "dMIRbG0lv5KR"
      },
      "source": [
        "#Modéle3"
      ],
      "execution_count": 53,
      "outputs": []
    },
    {
      "cell_type": "code",
      "metadata": {
        "colab": {
          "base_uri": "https://localhost:8080/"
        },
        "id": "PoI9kuVIccrw",
        "outputId": "2edf9b07-0df4-4c20-a860-fdcf1b6e48f9"
      },
      "source": [
        "#GBC\n",
        "from sklearn.ensemble import GradientBoostingClassifier\n",
        "gbc = GradientBoostingClassifier()\n",
        "gbc.fit(x_train, y_train)\n",
        "gbc.score(x_val, y_val)"
      ],
      "execution_count": 50,
      "outputs": [
        {
          "output_type": "execute_result",
          "data": {
            "text/plain": [
              "0.9970674486803519"
            ]
          },
          "metadata": {
            "tags": []
          },
          "execution_count": 50
        }
      ]
    },
    {
      "cell_type": "code",
      "metadata": {
        "id": "ktyQDA94znsL"
      },
      "source": [
        "#Modéle4"
      ],
      "execution_count": 77,
      "outputs": []
    },
    {
      "cell_type": "code",
      "metadata": {
        "id": "nX8rqXIezno1"
      },
      "source": [
        "from sklearn.svm import SVC\n",
        "from sklearn.model_selection import GridSearchCV"
      ],
      "execution_count": 78,
      "outputs": []
    },
    {
      "cell_type": "code",
      "metadata": {
        "colab": {
          "base_uri": "https://localhost:8080/"
        },
        "id": "S18oXbIpznlV",
        "outputId": "6a6f8c65-1316-49e5-dee3-044f9bdafbe9"
      },
      "source": [
        "params_grid = [{'kernel': ['rbf'], 'gamma': [1e-3, 1e-4],\n",
        "                     'C': [1, 10, 100, 1000]},\n",
        "                    {'kernel': ['linear'], 'C': [1, 10, 100, 1000]}]\n",
        "svm_model = GridSearchCV(SVC(), params_grid, cv=10)\n",
        "svm_model.fit(x_train, y_train)"
      ],
      "execution_count": 80,
      "outputs": [
        {
          "output_type": "execute_result",
          "data": {
            "text/plain": [
              "GridSearchCV(cv=10, error_score=nan,\n",
              "             estimator=SVC(C=1.0, break_ties=False, cache_size=200,\n",
              "                           class_weight=None, coef0=0.0,\n",
              "                           decision_function_shape='ovr', degree=3,\n",
              "                           gamma='scale', kernel='rbf', max_iter=-1,\n",
              "                           probability=False, random_state=None, shrinking=True,\n",
              "                           tol=0.001, verbose=False),\n",
              "             iid='deprecated', n_jobs=None,\n",
              "             param_grid=[{'C': [1, 10, 100, 1000], 'gamma': [0.001, 0.0001],\n",
              "                          'kernel': ['rbf']},\n",
              "                         {'C': [1, 10, 100, 1000], 'kernel': ['linear']}],\n",
              "             pre_dispatch='2*n_jobs', refit=True, return_train_score=False,\n",
              "             scoring=None, verbose=0)"
            ]
          },
          "metadata": {
            "tags": []
          },
          "execution_count": 80
        }
      ]
    },
    {
      "cell_type": "code",
      "metadata": {
        "colab": {
          "base_uri": "https://localhost:8080/"
        },
        "id": "XHnHTW3szpxf",
        "outputId": "f62841a4-0e1c-41e3-ae0e-5fb2df2d32e1"
      },
      "source": [
        "# View the accuracy score\n",
        "print('Best score for training data:', svm_model.best_score_,\"\\n\") \n",
        "\n",
        "# View the best parameters for the model found using grid search\n",
        "print('Best C:',svm_model.best_estimator_.C,\"\\n\") \n",
        "print('Best Kernel:',svm_model.best_estimator_.kernel,\"\\n\")\n",
        "print('Best Gamma:',svm_model.best_estimator_.gamma,\"\\n\")"
      ],
      "execution_count": 81,
      "outputs": [
        {
          "output_type": "stream",
          "text": [
            "Best score for training data: 0.9989010989010989 \n",
            "\n",
            "Best C: 1000 \n",
            "\n",
            "Best Kernel: linear \n",
            "\n",
            "Best Gamma: scale \n",
            "\n"
          ],
          "name": "stdout"
        }
      ]
    },
    {
      "cell_type": "code",
      "metadata": {
        "id": "acL0UGA3zpqY"
      },
      "source": [
        "final_model = svm_model.best_estimator_\n",
        "y_pred = final_model.predict(x_val)"
      ],
      "execution_count": 82,
      "outputs": []
    },
    {
      "cell_type": "code",
      "metadata": {
        "colab": {
          "base_uri": "https://localhost:8080/"
        },
        "id": "zDI7_nkF0U9n",
        "outputId": "b2d7ee45-09dc-4e7e-9c1d-54ba7a270e23"
      },
      "source": [
        "accuracy_score(y_val,y_pred)"
      ],
      "execution_count": 83,
      "outputs": [
        {
          "output_type": "execute_result",
          "data": {
            "text/plain": [
              "0.9970674486803519"
            ]
          },
          "metadata": {
            "tags": []
          },
          "execution_count": 83
        }
      ]
    },
    {
      "cell_type": "code",
      "metadata": {
        "id": "D8yfJHkuccos"
      },
      "source": [
        "#from sklearn.multioutput import MultiOutputClassifier\n",
        "#from xgboost import XGBClassifier"
      ],
      "execution_count": null,
      "outputs": []
    },
    {
      "cell_type": "code",
      "metadata": {
        "id": "LUV6KJcEccml"
      },
      "source": [
        "\n",
        "#LGB Model\n",
        "import lightgbm as lgb\n",
        "trn_data = lgb.Dataset(x_train, label=y_train)\n",
        "val_data = lgb.Dataset(x_val, label=y_val)\n",
        "\n",
        "weight = 10\n",
        "param = { 'num_leaves': 30,\n",
        "    'boost': 'gbdt',\n",
        "    'learning_rate': 0.02,\n",
        "    'metric':'multi_logloss',\n",
        "    'scale_pos_weight': round(weight, 1),\n",
        "    'num_class':7,\n",
        "    'max_depth':8,\n",
        "    \n",
        " \n",
        "    \n",
        "    'objective': 'multiclass',\n",
        "    'random_state': 42,\n",
        "    \n",
        "}\n"
      ],
      "execution_count": 144,
      "outputs": []
    },
    {
      "cell_type": "code",
      "metadata": {
        "id": "_0TSS5OVccko",
        "colab": {
          "base_uri": "https://localhost:8080/"
        },
        "outputId": "734d1272-ef01-4e11-b9ff-7c3eadaa1b5e"
      },
      "source": [
        "lgb_model = lgb.train(param, trn_data, 1000, valid_sets = [trn_data, val_data], \n",
        "                      verbose_eval=200, early_stopping_rounds=200)"
      ],
      "execution_count": 145,
      "outputs": [
        {
          "output_type": "stream",
          "text": [
            "Training until validation scores don't improve for 200 rounds.\n",
            "[200]\ttraining's multi_logloss: 0.0271293\tvalid_1's multi_logloss: 0.0294688\n",
            "[400]\ttraining's multi_logloss: 0.000680897\tvalid_1's multi_logloss: 0.00538637\n",
            "Early stopping, best iteration is:\n",
            "[375]\ttraining's multi_logloss: 0.00106647\tvalid_1's multi_logloss: 0.00470276\n"
          ],
          "name": "stdout"
        }
      ]
    },
    {
      "cell_type": "code",
      "metadata": {
        "id": "uwFpENGiVCcM"
      },
      "source": [
        "pred1 = lgb_model.predict(x_val,num_iteration=lgb_model.best_iteration)"
      ],
      "execution_count": 146,
      "outputs": []
    },
    {
      "cell_type": "code",
      "metadata": {
        "id": "dW0Y8mn8Atui"
      },
      "source": [
        "pred11 = [np.argmax(line) for line in pred1]"
      ],
      "execution_count": 147,
      "outputs": []
    },
    {
      "cell_type": "code",
      "metadata": {
        "colab": {
          "base_uri": "https://localhost:8080/"
        },
        "id": "IMwtmGOXBIne",
        "outputId": "397a4739-a135-499b-90bb-8c65f947d1af"
      },
      "source": [
        "accuracy_score(pred11,y_val)"
      ],
      "execution_count": 148,
      "outputs": [
        {
          "output_type": "execute_result",
          "data": {
            "text/plain": [
              "0.9970674486803519"
            ]
          },
          "metadata": {
            "tags": []
          },
          "execution_count": 148
        }
      ]
    },
    {
      "cell_type": "code",
      "metadata": {
        "id": "kbwYVqA3NNoN",
        "colab": {
          "base_uri": "https://localhost:8080/",
          "height": 35
        },
        "outputId": "24ee7e21-9106-46e4-d307-5717bfd3e95c"
      },
      "source": [
        "'''\n",
        "#Enregister le modéle\n",
        "import pickle\n",
        "with open('model_pickle','wb') as model_rfr:\n",
        "    pickle.dump(lgb_model,model_lgb)\n",
        "'''"
      ],
      "execution_count": null,
      "outputs": [
        {
          "output_type": "execute_result",
          "data": {
            "application/vnd.google.colaboratory.intrinsic+json": {
              "type": "string"
            },
            "text/plain": [
              "\"\\n#Enregister le modéle\\nimport pickle\\nwith open('model_pickle','wb') as model_rfr:\\n    pickle.dump(lgb_model,model_lgb)\\n\""
            ]
          },
          "metadata": {
            "tags": []
          },
          "execution_count": 175
        }
      ]
    },
    {
      "cell_type": "markdown",
      "metadata": {
        "id": "qwSYBM6pSMTB"
      },
      "source": [
        "# ***Event Détection & Machine Prediction (1)***"
      ]
    },
    {
      "cell_type": "code",
      "metadata": {
        "colab": {
          "base_uri": "https://localhost:8080/",
          "height": 195
        },
        "id": "xe_sc1VyPjiq",
        "outputId": "e008e24b-8a3b-4803-ffce-42791068dfdf"
      },
      "source": [
        "app.head()"
      ],
      "execution_count": null,
      "outputs": [
        {
          "output_type": "execute_result",
          "data": {
            "text/html": [
              "<div>\n",
              "<style scoped>\n",
              "    .dataframe tbody tr th:only-of-type {\n",
              "        vertical-align: middle;\n",
              "    }\n",
              "\n",
              "    .dataframe tbody tr th {\n",
              "        vertical-align: top;\n",
              "    }\n",
              "\n",
              "    .dataframe thead th {\n",
              "        text-align: right;\n",
              "    }\n",
              "</style>\n",
              "<table border=\"1\" class=\"dataframe\">\n",
              "  <thead>\n",
              "    <tr style=\"text-align: right;\">\n",
              "      <th></th>\n",
              "      <th>date</th>\n",
              "      <th>Appareil</th>\n",
              "      <th>RealP_tot</th>\n",
              "      <th>AppP_tot</th>\n",
              "      <th>Irms_tot</th>\n",
              "      <th>PowerF_tot</th>\n",
              "      <th>FP</th>\n",
              "      <th>hour</th>\n",
              "      <th>minute</th>\n",
              "      <th>P_reactive</th>\n",
              "      <th>date1</th>\n",
              "    </tr>\n",
              "  </thead>\n",
              "  <tbody>\n",
              "    <tr>\n",
              "      <th>0</th>\n",
              "      <td>2019-08-02T16:41:21.518Z</td>\n",
              "      <td>Cafetière</td>\n",
              "      <td>-0.985948</td>\n",
              "      <td>-0.981782</td>\n",
              "      <td>-0.989310</td>\n",
              "      <td>-1.950081</td>\n",
              "      <td>-1.627862</td>\n",
              "      <td>1.23663</td>\n",
              "      <td>0.646309</td>\n",
              "      <td>-0.663124</td>\n",
              "      <td>1.306683</td>\n",
              "    </tr>\n",
              "    <tr>\n",
              "      <th>1</th>\n",
              "      <td>2019-08-02T16:41:23.570Z</td>\n",
              "      <td>Cafetière</td>\n",
              "      <td>-0.979638</td>\n",
              "      <td>-0.981483</td>\n",
              "      <td>-0.976313</td>\n",
              "      <td>-1.579993</td>\n",
              "      <td>-1.522133</td>\n",
              "      <td>1.23663</td>\n",
              "      <td>0.646309</td>\n",
              "      <td>-0.665216</td>\n",
              "      <td>1.306683</td>\n",
              "    </tr>\n",
              "    <tr>\n",
              "      <th>2</th>\n",
              "      <td>2019-08-02T16:41:25.623Z</td>\n",
              "      <td>Cafetière</td>\n",
              "      <td>-0.973857</td>\n",
              "      <td>-0.937954</td>\n",
              "      <td>-0.945987</td>\n",
              "      <td>-2.096941</td>\n",
              "      <td>-1.658591</td>\n",
              "      <td>1.23663</td>\n",
              "      <td>0.646309</td>\n",
              "      <td>-0.614143</td>\n",
              "      <td>1.306683</td>\n",
              "    </tr>\n",
              "    <tr>\n",
              "      <th>3</th>\n",
              "      <td>2019-08-02T16:41:27.675Z</td>\n",
              "      <td>Cafetière</td>\n",
              "      <td>-0.976731</td>\n",
              "      <td>-0.962462</td>\n",
              "      <td>-0.976313</td>\n",
              "      <td>-1.964767</td>\n",
              "      <td>-1.581223</td>\n",
              "      <td>1.23663</td>\n",
              "      <td>0.646309</td>\n",
              "      <td>-0.644099</td>\n",
              "      <td>1.306683</td>\n",
              "    </tr>\n",
              "    <tr>\n",
              "      <th>4</th>\n",
              "      <td>2019-08-02T16:41:29.728Z</td>\n",
              "      <td>Cafetière</td>\n",
              "      <td>-0.984230</td>\n",
              "      <td>-0.970526</td>\n",
              "      <td>-0.963316</td>\n",
              "      <td>-1.632863</td>\n",
              "      <td>-1.659360</td>\n",
              "      <td>1.23663</td>\n",
              "      <td>0.646309</td>\n",
              "      <td>-0.650786</td>\n",
              "      <td>1.306683</td>\n",
              "    </tr>\n",
              "  </tbody>\n",
              "</table>\n",
              "</div>"
            ],
            "text/plain": [
              "                       date   Appareil  ...  P_reactive     date1\n",
              "0  2019-08-02T16:41:21.518Z  Cafetière  ...   -0.663124  1.306683\n",
              "1  2019-08-02T16:41:23.570Z  Cafetière  ...   -0.665216  1.306683\n",
              "2  2019-08-02T16:41:25.623Z  Cafetière  ...   -0.614143  1.306683\n",
              "3  2019-08-02T16:41:27.675Z  Cafetière  ...   -0.644099  1.306683\n",
              "4  2019-08-02T16:41:29.728Z  Cafetière  ...   -0.650786  1.306683\n",
              "\n",
              "[5 rows x 11 columns]"
            ]
          },
          "metadata": {
            "tags": []
          },
          "execution_count": 176
        }
      ]
    },
    {
      "cell_type": "code",
      "metadata": {
        "id": "vpjplhp3QlYZ"
      },
      "source": [
        "le = LabelEncoder()\n",
        "app['Appareil'] = le.fit_transform(app['Appareil'] )"
      ],
      "execution_count": null,
      "outputs": []
    },
    {
      "cell_type": "code",
      "metadata": {
        "id": "V6MIGVsrSJJ6"
      },
      "source": [
        "app['date'] = pd.to_datetime(app['date'])"
      ],
      "execution_count": null,
      "outputs": []
    },
    {
      "cell_type": "code",
      "metadata": {
        "id": "_e9AwGQjYjej"
      },
      "source": [
        "#Change point détection\n",
        "points = np.array(app['RealP_tot'])"
      ],
      "execution_count": null,
      "outputs": []
    },
    {
      "cell_type": "code",
      "metadata": {
        "colab": {
          "base_uri": "https://localhost:8080/",
          "height": 457
        },
        "id": "db96STSWYjbF",
        "outputId": "6d58c686-1ba1-4969-91d1-70c96d98a0b2"
      },
      "source": [
        "#Changepoint detection with the Pelt search method , pen = 4 (the optimal \"pen\" that we have tested)\n",
        "\n",
        "model=\"rbf\"\n",
        "algo = rpt.Pelt(model=model).fit(points)\n",
        "result = algo.predict(pen=4)\n",
        "rpt.display(points, result, figsize=(10, 6))\n",
        "plt.title('Change Point Detection: Pelt Search Method')\n",
        "plt.show() "
      ],
      "execution_count": null,
      "outputs": [
        {
          "output_type": "display_data",
          "data": {
            "image/png": "[encoded data removed]",
            "text/plain": [
              "<Figure size 720x432 with 1 Axes>"
            ]
          },
          "metadata": {
            "tags": [],
            "needs_background": "light"
          }
        }
      ]
    },
    {
      "cell_type": "code",
      "metadata": {
        "colab": {
          "base_uri": "https://localhost:8080/"
        },
        "id": "4llYSMBUYjSf",
        "outputId": "167fe0cf-1cb1-40be-fcb9-75d1f929c679"
      },
      "source": [
        "len(result)"
      ],
      "execution_count": null,
      "outputs": [
        {
          "output_type": "execute_result",
          "data": {
            "text/plain": [
              "22"
            ]
          },
          "metadata": {
            "tags": []
          },
          "execution_count": 181
        }
      ]
    },
    {
      "cell_type": "code",
      "metadata": {
        "colab": {
          "base_uri": "https://localhost:8080/"
        },
        "id": "EMitz2UdYn7R",
        "outputId": "63f06fd8-7941-4d3c-dd7d-2987809c551f"
      },
      "source": [
        "result"
      ],
      "execution_count": null,
      "outputs": [
        {
          "output_type": "execute_result",
          "data": {
            "text/plain": [
              "[10,\n",
              " 145,\n",
              " 165,\n",
              " 275,\n",
              " 350,\n",
              " 450,\n",
              " 500,\n",
              " 520,\n",
              " 645,\n",
              " 1125,\n",
              " 1265,\n",
              " 1550,\n",
              " 1785,\n",
              " 2055,\n",
              " 2120,\n",
              " 2155,\n",
              " 2340,\n",
              " 2385,\n",
              " 2450,\n",
              " 2565,\n",
              " 3010,\n",
              " 3408]"
            ]
          },
          "metadata": {
            "tags": []
          },
          "execution_count": 182
        }
      ]
    },
    {
      "cell_type": "code",
      "metadata": {
        "colab": {
          "base_uri": "https://localhost:8080/"
        },
        "id": "HLN9f0YLaRqY",
        "outputId": "05b89149-6543-4bb5-adc6-47dc96a79161"
      },
      "source": [
        "#on supprime le dernier élément du liste puisque il représente la fin du données\n",
        "result.pop(-1)"
      ],
      "execution_count": null,
      "outputs": [
        {
          "output_type": "execute_result",
          "data": {
            "text/plain": [
              "3408"
            ]
          },
          "metadata": {
            "tags": []
          },
          "execution_count": 183
        }
      ]
    },
    {
      "cell_type": "code",
      "metadata": {
        "id": "ymuSxmtvUOB1"
      },
      "source": [
        "#Fonction qui détermine l'élément le plus fréquent dans une liste\n",
        "def top_frequency(lst): \n",
        "    k = 0\n",
        "    n = lst[0]\n",
        "    lst = list(lst)\n",
        "    for i in lst: \n",
        "        freq = lst.count(i) \n",
        "        if(k < freq): \n",
        "            k = freq\n",
        "            n = i \n",
        "    return n"
      ],
      "execution_count": null,
      "outputs": []
    },
    {
      "cell_type": "code",
      "metadata": {
        "colab": {
          "base_uri": "https://localhost:8080/",
          "height": 195
        },
        "id": "_zpTkL__XSP6",
        "outputId": "9210aa5b-4a49-44fd-c97f-7b6c0824ef4f"
      },
      "source": [
        "app.head()"
      ],
      "execution_count": null,
      "outputs": [
        {
          "output_type": "execute_result",
          "data": {
            "text/html": [
              "<div>\n",
              "<style scoped>\n",
              "    .dataframe tbody tr th:only-of-type {\n",
              "        vertical-align: middle;\n",
              "    }\n",
              "\n",
              "    .dataframe tbody tr th {\n",
              "        vertical-align: top;\n",
              "    }\n",
              "\n",
              "    .dataframe thead th {\n",
              "        text-align: right;\n",
              "    }\n",
              "</style>\n",
              "<table border=\"1\" class=\"dataframe\">\n",
              "  <thead>\n",
              "    <tr style=\"text-align: right;\">\n",
              "      <th></th>\n",
              "      <th>date</th>\n",
              "      <th>Appareil</th>\n",
              "      <th>RealP_tot</th>\n",
              "      <th>AppP_tot</th>\n",
              "      <th>Irms_tot</th>\n",
              "      <th>PowerF_tot</th>\n",
              "      <th>FP</th>\n",
              "      <th>hour</th>\n",
              "      <th>minute</th>\n",
              "      <th>P_reactive</th>\n",
              "      <th>date1</th>\n",
              "    </tr>\n",
              "  </thead>\n",
              "  <tbody>\n",
              "    <tr>\n",
              "      <th>0</th>\n",
              "      <td>2019-08-02 16:41:21.518000+00:00</td>\n",
              "      <td>0</td>\n",
              "      <td>-0.985948</td>\n",
              "      <td>-0.981782</td>\n",
              "      <td>-0.989310</td>\n",
              "      <td>-1.950081</td>\n",
              "      <td>-1.627862</td>\n",
              "      <td>1.23663</td>\n",
              "      <td>0.646309</td>\n",
              "      <td>-0.663124</td>\n",
              "      <td>1.306683</td>\n",
              "    </tr>\n",
              "    <tr>\n",
              "      <th>1</th>\n",
              "      <td>2019-08-02 16:41:23.570000+00:00</td>\n",
              "      <td>0</td>\n",
              "      <td>-0.979638</td>\n",
              "      <td>-0.981483</td>\n",
              "      <td>-0.976313</td>\n",
              "      <td>-1.579993</td>\n",
              "      <td>-1.522133</td>\n",
              "      <td>1.23663</td>\n",
              "      <td>0.646309</td>\n",
              "      <td>-0.665216</td>\n",
              "      <td>1.306683</td>\n",
              "    </tr>\n",
              "    <tr>\n",
              "      <th>2</th>\n",
              "      <td>2019-08-02 16:41:25.623000+00:00</td>\n",
              "      <td>0</td>\n",
              "      <td>-0.973857</td>\n",
              "      <td>-0.937954</td>\n",
              "      <td>-0.945987</td>\n",
              "      <td>-2.096941</td>\n",
              "      <td>-1.658591</td>\n",
              "      <td>1.23663</td>\n",
              "      <td>0.646309</td>\n",
              "      <td>-0.614143</td>\n",
              "      <td>1.306683</td>\n",
              "    </tr>\n",
              "    <tr>\n",
              "      <th>3</th>\n",
              "      <td>2019-08-02 16:41:27.675000+00:00</td>\n",
              "      <td>0</td>\n",
              "      <td>-0.976731</td>\n",
              "      <td>-0.962462</td>\n",
              "      <td>-0.976313</td>\n",
              "      <td>-1.964767</td>\n",
              "      <td>-1.581223</td>\n",
              "      <td>1.23663</td>\n",
              "      <td>0.646309</td>\n",
              "      <td>-0.644099</td>\n",
              "      <td>1.306683</td>\n",
              "    </tr>\n",
              "    <tr>\n",
              "      <th>4</th>\n",
              "      <td>2019-08-02 16:41:29.728000+00:00</td>\n",
              "      <td>0</td>\n",
              "      <td>-0.984230</td>\n",
              "      <td>-0.970526</td>\n",
              "      <td>-0.963316</td>\n",
              "      <td>-1.632863</td>\n",
              "      <td>-1.659360</td>\n",
              "      <td>1.23663</td>\n",
              "      <td>0.646309</td>\n",
              "      <td>-0.650786</td>\n",
              "      <td>1.306683</td>\n",
              "    </tr>\n",
              "  </tbody>\n",
              "</table>\n",
              "</div>"
            ],
            "text/plain": [
              "                              date  Appareil  ...  P_reactive     date1\n",
              "0 2019-08-02 16:41:21.518000+00:00         0  ...   -0.663124  1.306683\n",
              "1 2019-08-02 16:41:23.570000+00:00         0  ...   -0.665216  1.306683\n",
              "2 2019-08-02 16:41:25.623000+00:00         0  ...   -0.614143  1.306683\n",
              "3 2019-08-02 16:41:27.675000+00:00         0  ...   -0.644099  1.306683\n",
              "4 2019-08-02 16:41:29.728000+00:00         0  ...   -0.650786  1.306683\n",
              "\n",
              "[5 rows x 11 columns]"
            ]
          },
          "metadata": {
            "tags": []
          },
          "execution_count": 191
        }
      ]
    },
    {
      "cell_type": "code",
      "metadata": {
        "id": "lvpsTsJIXTSC"
      },
      "source": [
        "app.drop(['Appareil'],1,inplace=True)"
      ],
      "execution_count": null,
      "outputs": []
    },
    {
      "cell_type": "code",
      "metadata": {
        "id": "XCBWbqhkUN_K"
      },
      "source": [
        "lch=[] #liste des appareils en marche\n",
        "lch2=[] #Liste des appareils mis hors tension\n",
        "list_deb =[] #liste des instants des débuts\n",
        "list_fin =[] #liste des instants des fins\n",
        "list_dur=[] #Liste des durées\n",
        "list_apps =[] #Liste des appareils détectés\n",
        "list_idx = [] # Liste des Index d'évenements"
      ],
      "execution_count": null,
      "outputs": []
    },
    {
      "cell_type": "code",
      "metadata": {
        "id": "57wvGWH8UN83"
      },
      "source": [
        "#Le Principe était de prendre à chaque fois les lignes qui suivent une détection de changement\n",
        "# et faire une prédiction ensuite de prende l'appareil le plus occurent comme résultat de prédiction"
      ],
      "execution_count": null,
      "outputs": []
    },
    {
      "cell_type": "code",
      "metadata": {
        "id": "RHIFmKpsUN6H",
        "colab": {
          "base_uri": "https://localhost:8080/"
        },
        "outputId": "1688b6a1-3528-4d99-f23f-085351ffa221"
      },
      "source": [
        "######Prédiciton pour les lignes du premier évènement seulement\n",
        "\n",
        "idx1 = result[0] #Premier index où l'évement été détecté\n",
        "idx2 = result[1] #Index du prochain évènement\n",
        "dtest = app.iloc[idx1:idx2] #La base sur laquelle on va prédire: Elle Commence de idx1 jusqu'à (idx2 - 1)\n",
        "\n",
        "#dates du début et du fin\n",
        "debut = dtest['date'].min() \n",
        "fin = dtest['date'].max()\n",
        "\n",
        "\n",
        "diff = int(((dtest['date'].max() - dtest['date'].min()).seconds)) #durée entre les deux événement\n",
        "duree = strftime('%H:%M:%S', gmtime(diff))\n",
        "dtest.drop('date',inplace=True, axis=1)\n",
        "\n",
        "#Prédiciton\n",
        "ypred = rfr.predict(dtest)\n",
        "appar = top_frequency(ypred) #Prendre l'appareil le plus occurent\n",
        "\n",
        "\n",
        "\n",
        "#remplir les listes\n",
        "list_apps.append(Appareils[appar])\n",
        "list_deb.append(debut)\n",
        "list_fin.append(fin)\n",
        "list_dur.append(duree)\n",
        "list_idx.append(idx1)\n",
        "\n",
        "\n",
        "ch = Appareils[appar]\n",
        "ch2 = '--'\n",
        "lch.append(ch)\n",
        "lch2.append(ch2)"
      ],
      "execution_count": null,
      "outputs": [
        {
          "output_type": "stream",
          "text": [
            "/usr/local/lib/python3.7/dist-packages/pandas/core/frame.py:4174: SettingWithCopyWarning: \n",
            "A value is trying to be set on a copy of a slice from a DataFrame\n",
            "\n",
            "See the caveats in the documentation: https://pandas.pydata.org/pandas-docs/stable/user_guide/indexing.html#returning-a-view-versus-a-copy\n",
            "  errors=errors,\n"
          ],
          "name": "stderr"
        }
      ]
    },
    {
      "cell_type": "code",
      "metadata": {
        "colab": {
          "base_uri": "https://localhost:8080/"
        },
        "id": "lPAG7JEPcFjs",
        "outputId": "f65512ba-1ab6-4a30-fba5-0cb1aa9c0438"
      },
      "source": [
        "list_apps"
      ],
      "execution_count": null,
      "outputs": [
        {
          "output_type": "execute_result",
          "data": {
            "text/plain": [
              "['Cafetière']"
            ]
          },
          "metadata": {
            "tags": []
          },
          "execution_count": 196
        }
      ]
    },
    {
      "cell_type": "code",
      "metadata": {
        "id": "MusjsPN-0MBE"
      },
      "source": [
        "#On répéte le méme processus sur les intervalles suivants"
      ],
      "execution_count": null,
      "outputs": []
    },
    {
      "cell_type": "code",
      "metadata": {
        "id": "Rz1qyU2V0L-P",
        "colab": {
          "base_uri": "https://localhost:8080/"
        },
        "outputId": "19e54651-9d39-47f0-f2b4-127d8e2ee879"
      },
      "source": [
        "#Prédiciton pour toutes les autres lignes sauf celles qui sont après la détection du dernier évenement \n",
        "for i in range(1,(len(result)-1)):\n",
        "    idx1 = result[i] #Premier index où l'évement été détecté\n",
        "    idx2 = result[i+1] #Index du prochain évènement\n",
        "    pvar = app.iloc[idx2]['RealP_tot'] - app.iloc[idx1]['RealP_tot'] #C'est la variation en terme de puissance apparente\n",
        "    #ou on peut prendre la différence des moyennes des intervalles consécutives\n",
        "\n",
        "    pvar = round(pvar,3) #On prend juste 3 valeurs aprés la virgule\n",
        "\n",
        "    \n",
        "    #On conserve \"dtest\" qui contient les données entre les 2 points de changement précédentes\n",
        "    dtest1 = app.iloc[idx1:idx2]\n",
        "\n",
        "    #dates de début et du fin\n",
        "    debut = dtest1['date'].min()\n",
        "    fin = dtest1['date'].max()\n",
        "\n",
        "    #durée du période en secondes\n",
        "    diff = int(((dtest1['date'].max() - dtest1['date'].min()).seconds))\n",
        "    duree = strftime('%H:%M:%S', gmtime(diff))\n",
        "    dtest1.drop('date',inplace=True, axis=1)\n",
        "    \n",
        "\n",
        "    #Calcul des valeurs moyennes de l'intervalle précédent (dtest et non dtest1)\n",
        "    RealP_mean = dtest['RealP_tot'].mean()\n",
        "    PowerF_mean = dtest['PowerF_tot'].mean()\n",
        "    Irms_mean = dtest['Irms_tot'].mean()\n",
        "    #Les autres variables ( 'FP' et 'P_reactive') on les recalculer aprés la maj\n",
        "\n",
        "    \n",
        "    dtest1 = dtest1.reset_index(drop=True)\n",
        "\n",
        "    #Mise a jour des données\n",
        "    for k in range(len(dtest1)):\n",
        "      dtest1.iloc[k]['RealP_tot'] = np.abs( dtest1.iloc[k]['RealP_tot'] - RealP_mean )\n",
        "      dtest1.iloc[k]['PowerF_tot'] = np.abs( dtest1.iloc[k]['PowerF_tot'] - PowerF_mean )\n",
        "      dtest1.iloc[k]['Irms_tot'] = np.abs( dtest1.iloc[k]['Irms_tot'] - Irms_mean )\n",
        "\n",
        "\n",
        "    #recalcul des variables 'FP' et 'Preactive'\n",
        "    dtest1['P_reactive'] = np.abs(dtest1['RealP_tot']**2 - dtest1['PowerF_tot']**2)\n",
        "    dtest1['FP'] = dtest1['PowerF_tot'] / dtest1['RealP_tot']\n",
        "\n",
        "    #On prend 3 entiers aprés la virgule     \n",
        "    dtest1[['PowerF_tot','RealP_tot','P_reactive','FP']] = round(dtest1[['PowerF_tot','RealP_tot','P_reactive','FP']],3)\n",
        "    \n",
        "\n",
        "    \n",
        "    #Prediction du machine       \n",
        "    ypred = rfr.predict(dtest1)\n",
        "    appar = top_frequency(ypred) \n",
        "    appar = Appareils[appar]\n",
        "\n",
        "    #dtest1 sera dtest pour qu'on utilse dans la prochaine intervalle*****************\n",
        "    dtest = app.iloc[idx1:idx2]\n",
        "\n",
        "    #Ajout des informations obtenus\n",
        "    list_apps.append(appar)\n",
        "    list_deb.append(debut)\n",
        "    list_fin.append(fin)\n",
        "    list_dur.append(duree)\n",
        "    list_idx.append(idx1)\n",
        "\n",
        "\n",
        "\n",
        "    #Cette partie de code pour l'ajout du nom d'appareil dans la colonne de mis en marche ou bien de mis hors marche\n",
        "    #cas1 : la valeur du puissance augmente , ilya ume machine (ou plus) qui est ajoutée\n",
        "    if pvar > 0 : \n",
        "      if appar in ch: \n",
        "        b = \"\".join(re.findall(\"(\\s+){}\".format(appar), ch))\n",
        "        if b.isspace() == False: #L'appareil exite q'une seukle fois\n",
        "          if ch.find(appar) == 0:\n",
        "            ch = '2'+ch\n",
        "          else:\n",
        "            c = \"\".join(re.findall(\"(\\d+){}\".format(appar), ch)) #déterminer le nombre de cette appareil qui existe\n",
        "            ac = c + appar\n",
        "            bc = str(int(c) + 1)+appar #addditionner le nombre d'apparition de cette machine\n",
        "            ch= ch.replace(ac, bc)\n",
        "        else: #si b est une espace , donc cette appareil existe q'une seule fois\n",
        "          ch = ('2'+appar).join(ch.split(appar))\n",
        "        ch2 = '--' #pour dire que l'appareil ajoutée déja existe\n",
        "        lch.append(ch)\n",
        "        lch2.append(ch2)\n",
        "      else:\n",
        "        ch = ch + ' ' + appar\n",
        "        ch2 = '--' #pour dire que l'appareil ajoutée déja existe\n",
        "        lch.append(ch)\n",
        "        lch2.append(ch2)\n",
        "\n",
        "        \n",
        "    #pvar < 0 , ilya une appareil(plus q'un appareil ou juste un bruit ) débranchée\n",
        "    else:\n",
        "      if appar in ch: #si l'appareil prédictée existe (pour qu'on peut le supprimer ou décrémenter sa nombre )\n",
        "      #sinon on néglige cette variation de puissance et on suppose que c'est la méme machine mais avec un autre niveau de puissance\n",
        "        b = \"\".join(re.findall(\"(\\s+){}\".format(appar), ch))\n",
        "        if b.isspace() == False:\n",
        "          if ch.find(appar) == 0:\n",
        "            ch = ch.replace(appar ,'') \n",
        "          else:\n",
        "              c = \"\".join(re.findall(\"(\\d+){}\".format(appar), ch))\n",
        "              ac = c+appar\n",
        "              bc = str(int(c) - 1)+appar\n",
        "              ch= ch.replace(ac, bc)\n",
        "              ch = ch.replace('1','')\n",
        "              ch = ' '.join(ch.split())\n",
        "        else:\n",
        "            ch = ch = ch.replace(appar ,'')\n",
        "            ch = ' '.join(ch.split())\n",
        "        ch2 = appar\n",
        "        lch.append(ch)\n",
        "        lch2.append(ch2)\n",
        "      #l'appareil n'existe pas déja\n",
        "      else:\n",
        "        ch2 = appar\n",
        "        lch.append(ch)\n",
        "        lch2.append(ch2)"
      ],
      "execution_count": null,
      "outputs": [
        {
          "output_type": "stream",
          "text": [
            "/usr/local/lib/python3.7/dist-packages/pandas/core/frame.py:4174: SettingWithCopyWarning: \n",
            "A value is trying to be set on a copy of a slice from a DataFrame\n",
            "\n",
            "See the caveats in the documentation: https://pandas.pydata.org/pandas-docs/stable/user_guide/indexing.html#returning-a-view-versus-a-copy\n",
            "  errors=errors,\n",
            "/usr/local/lib/python3.7/dist-packages/pandas/core/frame.py:4174: SettingWithCopyWarning: \n",
            "A value is trying to be set on a copy of a slice from a DataFrame\n",
            "\n",
            "See the caveats in the documentation: https://pandas.pydata.org/pandas-docs/stable/user_guide/indexing.html#returning-a-view-versus-a-copy\n",
            "  errors=errors,\n",
            "/usr/local/lib/python3.7/dist-packages/pandas/core/frame.py:4174: SettingWithCopyWarning: \n",
            "A value is trying to be set on a copy of a slice from a DataFrame\n",
            "\n",
            "See the caveats in the documentation: https://pandas.pydata.org/pandas-docs/stable/user_guide/indexing.html#returning-a-view-versus-a-copy\n",
            "  errors=errors,\n",
            "/usr/local/lib/python3.7/dist-packages/pandas/core/frame.py:4174: SettingWithCopyWarning: \n",
            "A value is trying to be set on a copy of a slice from a DataFrame\n",
            "\n",
            "See the caveats in the documentation: https://pandas.pydata.org/pandas-docs/stable/user_guide/indexing.html#returning-a-view-versus-a-copy\n",
            "  errors=errors,\n",
            "/usr/local/lib/python3.7/dist-packages/pandas/core/frame.py:4174: SettingWithCopyWarning: \n",
            "A value is trying to be set on a copy of a slice from a DataFrame\n",
            "\n",
            "See the caveats in the documentation: https://pandas.pydata.org/pandas-docs/stable/user_guide/indexing.html#returning-a-view-versus-a-copy\n",
            "  errors=errors,\n",
            "/usr/local/lib/python3.7/dist-packages/pandas/core/frame.py:4174: SettingWithCopyWarning: \n",
            "A value is trying to be set on a copy of a slice from a DataFrame\n",
            "\n",
            "See the caveats in the documentation: https://pandas.pydata.org/pandas-docs/stable/user_guide/indexing.html#returning-a-view-versus-a-copy\n",
            "  errors=errors,\n",
            "/usr/local/lib/python3.7/dist-packages/pandas/core/frame.py:4174: SettingWithCopyWarning: \n",
            "A value is trying to be set on a copy of a slice from a DataFrame\n",
            "\n",
            "See the caveats in the documentation: https://pandas.pydata.org/pandas-docs/stable/user_guide/indexing.html#returning-a-view-versus-a-copy\n",
            "  errors=errors,\n",
            "/usr/local/lib/python3.7/dist-packages/pandas/core/frame.py:4174: SettingWithCopyWarning: \n",
            "A value is trying to be set on a copy of a slice from a DataFrame\n",
            "\n",
            "See the caveats in the documentation: https://pandas.pydata.org/pandas-docs/stable/user_guide/indexing.html#returning-a-view-versus-a-copy\n",
            "  errors=errors,\n",
            "/usr/local/lib/python3.7/dist-packages/pandas/core/frame.py:4174: SettingWithCopyWarning: \n",
            "A value is trying to be set on a copy of a slice from a DataFrame\n",
            "\n",
            "See the caveats in the documentation: https://pandas.pydata.org/pandas-docs/stable/user_guide/indexing.html#returning-a-view-versus-a-copy\n",
            "  errors=errors,\n",
            "/usr/local/lib/python3.7/dist-packages/pandas/core/frame.py:4174: SettingWithCopyWarning: \n",
            "A value is trying to be set on a copy of a slice from a DataFrame\n",
            "\n",
            "See the caveats in the documentation: https://pandas.pydata.org/pandas-docs/stable/user_guide/indexing.html#returning-a-view-versus-a-copy\n",
            "  errors=errors,\n",
            "/usr/local/lib/python3.7/dist-packages/pandas/core/frame.py:4174: SettingWithCopyWarning: \n",
            "A value is trying to be set on a copy of a slice from a DataFrame\n",
            "\n",
            "See the caveats in the documentation: https://pandas.pydata.org/pandas-docs/stable/user_guide/indexing.html#returning-a-view-versus-a-copy\n",
            "  errors=errors,\n",
            "/usr/local/lib/python3.7/dist-packages/pandas/core/frame.py:4174: SettingWithCopyWarning: \n",
            "A value is trying to be set on a copy of a slice from a DataFrame\n",
            "\n",
            "See the caveats in the documentation: https://pandas.pydata.org/pandas-docs/stable/user_guide/indexing.html#returning-a-view-versus-a-copy\n",
            "  errors=errors,\n",
            "/usr/local/lib/python3.7/dist-packages/pandas/core/frame.py:4174: SettingWithCopyWarning: \n",
            "A value is trying to be set on a copy of a slice from a DataFrame\n",
            "\n",
            "See the caveats in the documentation: https://pandas.pydata.org/pandas-docs/stable/user_guide/indexing.html#returning-a-view-versus-a-copy\n",
            "  errors=errors,\n",
            "/usr/local/lib/python3.7/dist-packages/pandas/core/frame.py:4174: SettingWithCopyWarning: \n",
            "A value is trying to be set on a copy of a slice from a DataFrame\n",
            "\n",
            "See the caveats in the documentation: https://pandas.pydata.org/pandas-docs/stable/user_guide/indexing.html#returning-a-view-versus-a-copy\n",
            "  errors=errors,\n",
            "/usr/local/lib/python3.7/dist-packages/pandas/core/frame.py:4174: SettingWithCopyWarning: \n",
            "A value is trying to be set on a copy of a slice from a DataFrame\n",
            "\n",
            "See the caveats in the documentation: https://pandas.pydata.org/pandas-docs/stable/user_guide/indexing.html#returning-a-view-versus-a-copy\n",
            "  errors=errors,\n",
            "/usr/local/lib/python3.7/dist-packages/pandas/core/frame.py:4174: SettingWithCopyWarning: \n",
            "A value is trying to be set on a copy of a slice from a DataFrame\n",
            "\n",
            "See the caveats in the documentation: https://pandas.pydata.org/pandas-docs/stable/user_guide/indexing.html#returning-a-view-versus-a-copy\n",
            "  errors=errors,\n",
            "/usr/local/lib/python3.7/dist-packages/pandas/core/frame.py:4174: SettingWithCopyWarning: \n",
            "A value is trying to be set on a copy of a slice from a DataFrame\n",
            "\n",
            "See the caveats in the documentation: https://pandas.pydata.org/pandas-docs/stable/user_guide/indexing.html#returning-a-view-versus-a-copy\n",
            "  errors=errors,\n",
            "/usr/local/lib/python3.7/dist-packages/pandas/core/frame.py:4174: SettingWithCopyWarning: \n",
            "A value is trying to be set on a copy of a slice from a DataFrame\n",
            "\n",
            "See the caveats in the documentation: https://pandas.pydata.org/pandas-docs/stable/user_guide/indexing.html#returning-a-view-versus-a-copy\n",
            "  errors=errors,\n",
            "/usr/local/lib/python3.7/dist-packages/pandas/core/frame.py:4174: SettingWithCopyWarning: \n",
            "A value is trying to be set on a copy of a slice from a DataFrame\n",
            "\n",
            "See the caveats in the documentation: https://pandas.pydata.org/pandas-docs/stable/user_guide/indexing.html#returning-a-view-versus-a-copy\n",
            "  errors=errors,\n"
          ],
          "name": "stderr"
        }
      ]
    },
    {
      "cell_type": "code",
      "metadata": {
        "id": "iqs_1rDh0L66"
      },
      "source": [
        "#On applique aussi cette processus sur le dernier intervalle"
      ],
      "execution_count": null,
      "outputs": []
    },
    {
      "cell_type": "code",
      "metadata": {
        "id": "1VngCkrd0L3t",
        "colab": {
          "base_uri": "https://localhost:8080/"
        },
        "outputId": "f6f60600-3a94-4c18-db3f-e2a438106511"
      },
      "source": [
        "#Prédiciton pour les lignes après la détection du dernier évènement \n",
        "\n",
        "idx1 = result[-1] #dernier indice\n",
        "idx2 = len(app) - 1 #dernier ligne \n",
        "pvar = app.iloc[idx2]['RealP_tot'] - app.iloc[idx1]['RealP_tot']\n",
        "dtest1 = app.iloc[idx1:idx2]\n",
        "\n",
        "\n",
        "debut = dtest1['date'].min()\n",
        "fin = dtest1['date'].max()\n",
        "diff = int(((dtest1['date'].max() - dtest1['date'].min()).seconds))\n",
        "duree = strftime('%H:%M:%S', gmtime(diff))\n",
        "dtest1.drop('date',inplace=True, axis=1)\n",
        "\n",
        "\n",
        "\n",
        "#Calcul des valeurs moyennes de l'intervalle précédent (dtest et non dtest1)\n",
        "RealP_mean = dtest['RealP_tot'].mean()\n",
        "PowerF_mean = dtest['PowerF_tot'].mean()\n",
        "Irms_mean = dtest['Irms_tot'].mean()\n",
        "#Les autres variables ( 'FP' et 'P_reactive') on les recalculer aprés la maj\n",
        "\n",
        "    \n",
        "dtest1 = dtest1.reset_index(drop=True)\n",
        "\n",
        "#Mise a jour des données\n",
        "for k in range(len(dtest1)):\n",
        "  dtest1.iloc[k]['RealP_tot'] = np.abs( dtest1.iloc[k]['RealP_tot'] - RealP_mean )\n",
        "  dtest1.iloc[k]['PowerF_tot'] = np.abs( dtest1.iloc[k]['PowerF_tot'] - PowerF_mean )\n",
        "  dtest1.iloc[k]['Irms_tot'] = np.abs( dtest1.iloc[k]['Irms_tot'] - Irms_mean )\n",
        "\n",
        "\n",
        "#recalcul des variables 'FP' et 'Preactive'\n",
        "dtest1['P_reactive'] = np.abs(dtest1['RealP_tot']**2 - dtest1['PowerF_tot']**2)\n",
        "dtest1['FP'] = dtest1['PowerF_tot'] / dtest1['RealP_tot']\n",
        "\n",
        "#On prend 3 entiers aprés la virgule     \n",
        "dtest1[['PowerF_tot','RealP_tot','P_reactive','FP']] = round(dtest1[['PowerF_tot','RealP_tot','P_reactive','FP']],3)\n",
        " \n",
        "\n",
        "#Prédiction \n",
        "ypred = rfr.predict(dtest1)\n",
        "appar = top_frequency(ypred)\n",
        "\n",
        "appar = Appareils[appar]\n",
        "\n",
        "\n",
        "#Ajout des informations\n",
        "list_apps.append(appar)\n",
        "list_deb.append(debut)\n",
        "list_fin.append(fin)\n",
        "list_dur.append(duree)\n",
        "list_idx.append(idx1)\n",
        "\n",
        "\n",
        "\n",
        "if pvar > 0 :\n",
        "  if appar in ch:\n",
        "    b = \"\".join(re.findall(\"(\\s+){}\".format(appar), ch))\n",
        "    if b.isspace() == False:\n",
        "      if ch.find(appar) == 0:\n",
        "        ch = '2'+ch\n",
        "      else:\n",
        "        c = \"\".join(re.findall(\"(\\d+){}\".format(appar), ch))\n",
        "        ac = c+appar\n",
        "        bc = str(int(c) + 1)+appar\n",
        "        ch= ch.replace(ac, bc)\n",
        "    else:\n",
        "      ch = ('2'+appar).join(ch.split(appar))\n",
        "    ch2 = '--'\n",
        "    lch.append(ch)\n",
        "    lch2.append(ch2)\n",
        "  else:\n",
        "    ch = ch + ' ' + appar\n",
        "    ch2 = '--'\n",
        "    lch.append(ch)\n",
        "    lch2.append(ch2)\n",
        "\n",
        "\n",
        "else:\n",
        "  if appar in ch:\n",
        "    b = \"\".join(re.findall(\"(\\s+){}\".format(appar), ch))\n",
        "    if b.isspace() == False: \n",
        "      if ch.find(appar) == 0:\n",
        "        ch = ch.replace(appar ,'') \n",
        "      else:\n",
        "        c = \"\".join(re.findall(\"(\\d+){}\".format(appar), ch))\n",
        "        ac = c+appar\n",
        "        bc = str(int(c) - 1)+appar\n",
        "        ch= ch.replace(ac, bc)\n",
        "        ch = ch.replace('1','')\n",
        "        ch = ' '.join(ch.split())\n",
        "    else:\n",
        "      ch = ch = ch.replace(appar ,'')\n",
        "      ch = ' '.join(ch.split())\n",
        "    ch2 = appar\n",
        "    lch.append(ch)\n",
        "    lch2.append(ch2)\n",
        "  else:\n",
        "    ch2 = appar\n",
        "    lch.append(ch)\n",
        "    lch2.append(ch2)"
      ],
      "execution_count": null,
      "outputs": [
        {
          "output_type": "stream",
          "text": [
            "/usr/local/lib/python3.7/dist-packages/pandas/core/frame.py:4174: SettingWithCopyWarning: \n",
            "A value is trying to be set on a copy of a slice from a DataFrame\n",
            "\n",
            "See the caveats in the documentation: https://pandas.pydata.org/pandas-docs/stable/user_guide/indexing.html#returning-a-view-versus-a-copy\n",
            "  errors=errors,\n"
          ],
          "name": "stderr"
        }
      ]
    },
    {
      "cell_type": "code",
      "metadata": {
        "colab": {
          "base_uri": "https://localhost:8080/"
        },
        "id": "CtP0ymVZvk64",
        "outputId": "8a3460c6-4fa1-4063-b737-19533e10c206"
      },
      "source": [
        "list_apps"
      ],
      "execution_count": null,
      "outputs": [
        {
          "output_type": "execute_result",
          "data": {
            "text/plain": [
              "['Cafetière',\n",
              " 'Cafetière',\n",
              " 'Cafetière',\n",
              " 'Cafetière',\n",
              " 'Cafetière',\n",
              " 'Cafetière',\n",
              " 'Cafetière',\n",
              " 'Cafetière',\n",
              " 'ClimatiseurA',\n",
              " 'ClimatiseurB',\n",
              " 'ClimatiseurB',\n",
              " 'Imprimante',\n",
              " 'Micro-ondesB',\n",
              " 'Micro-ondesB',\n",
              " 'Micro-ondesB',\n",
              " 'Micro-ondesA',\n",
              " 'Micro-ondesA',\n",
              " 'Micro-ondesA',\n",
              " 'Micro-ondesA',\n",
              " 'Imprimante',\n",
              " 'Imprimante']"
            ]
          },
          "metadata": {
            "tags": []
          },
          "execution_count": 200
        }
      ]
    },
    {
      "cell_type": "code",
      "metadata": {
        "colab": {
          "base_uri": "https://localhost:8080/"
        },
        "id": "P8DS09KcvpFN",
        "outputId": "d2dc4d49-1f7f-4044-8456-a3a45a6e6857"
      },
      "source": [
        "lch"
      ],
      "execution_count": null,
      "outputs": [
        {
          "output_type": "execute_result",
          "data": {
            "text/plain": [
              "['Cafetière',\n",
              " '2Cafetière',\n",
              " '3Cafetière',\n",
              " '2Cafetière',\n",
              " '3Cafetière',\n",
              " '2Cafetière',\n",
              " '3Cafetière',\n",
              " '4Cafetière',\n",
              " '4Cafetière ClimatiseurA',\n",
              " '4Cafetière ClimatiseurA ClimatiseurB',\n",
              " '4Cafetière ClimatiseurA',\n",
              " '4Cafetière ClimatiseurA',\n",
              " '4Cafetière ClimatiseurA',\n",
              " '4Cafetière ClimatiseurA Micro-ondesB',\n",
              " '4Cafetière ClimatiseurA 2Micro-ondesB',\n",
              " '4Cafetière ClimatiseurA 2Micro-ondesB',\n",
              " '4Cafetière ClimatiseurA 2Micro-ondesB',\n",
              " '4Cafetière ClimatiseurA 2Micro-ondesB',\n",
              " '4Cafetière ClimatiseurA 2Micro-ondesB Micro-ondesA',\n",
              " '4Cafetière ClimatiseurA 2Micro-ondesB Micro-ondesA',\n",
              " '4Cafetière ClimatiseurA 2Micro-ondesB Micro-ondesA Imprimante']"
            ]
          },
          "metadata": {
            "tags": []
          },
          "execution_count": 201
        }
      ]
    },
    {
      "cell_type": "code",
      "metadata": {
        "id": "8qTfjvCeUNv6",
        "colab": {
          "base_uri": "https://localhost:8080/"
        },
        "outputId": "b576c14f-dbee-4a43-ca9f-b5748e6b88ff"
      },
      "source": [
        "list_dur"
      ],
      "execution_count": null,
      "outputs": [
        {
          "output_type": "execute_result",
          "data": {
            "text/plain": [
              "['00:04:57',\n",
              " '00:00:39',\n",
              " '00:03:43',\n",
              " '00:02:31',\n",
              " '00:03:23',\n",
              " '00:01:40',\n",
              " '00:00:39',\n",
              " '20:31:38',\n",
              " '00:47:12',\n",
              " '00:04:55',\n",
              " '05:15:52',\n",
              " '00:13:43',\n",
              " '05:55:47',\n",
              " '00:02:11',\n",
              " '00:56:31',\n",
              " '00:06:17',\n",
              " '00:01:30',\n",
              " '00:02:11',\n",
              " '06:01:48',\n",
              " '00:15:15',\n",
              " '00:13:32']"
            ]
          },
          "metadata": {
            "tags": []
          },
          "execution_count": 202
        }
      ]
    },
    {
      "cell_type": "code",
      "metadata": {
        "colab": {
          "base_uri": "https://localhost:8080/"
        },
        "id": "-Ga2utPTAQu9",
        "outputId": "6c1126cd-1131-4711-d4d6-d8c5ff78d4ad"
      },
      "source": [
        "list_deb"
      ],
      "execution_count": null,
      "outputs": [
        {
          "output_type": "execute_result",
          "data": {
            "text/plain": [
              "[Timestamp('2019-08-02 16:41:42.045000+0000', tz='UTC'),\n",
              " Timestamp('2019-08-02 16:46:41.920000+0000', tz='UTC'),\n",
              " Timestamp('2019-08-02 16:47:22.979000+0000', tz='UTC'),\n",
              " Timestamp('2019-08-02 16:51:08.768000+0000', tz='UTC'),\n",
              " Timestamp('2019-08-02 16:53:42.811000+0000', tz='UTC'),\n",
              " Timestamp('2019-08-02 16:57:08.065000+0000', tz='UTC'),\n",
              " Timestamp('2019-08-02 16:58:50.763000+0000', tz='UTC'),\n",
              " Timestamp('2019-08-02 16:59:31.821000+0000', tz='UTC'),\n",
              " Timestamp('2019-08-03 13:00:30.443000+0000', tz='UTC'),\n",
              " Timestamp('2019-08-03 13:00:32.498000+0000', tz='UTC'),\n",
              " Timestamp('2019-08-02 07:59:16.860000+0000', tz='UTC'),\n",
              " Timestamp('2019-08-02 07:59:20.965000+0000', tz='UTC'),\n",
              " Timestamp('2019-08-02 08:13:06.792000+0000', tz='UTC'),\n",
              " Timestamp('2019-08-03 14:08:56.784000+0000', tz='UTC'),\n",
              " Timestamp('2019-08-03 13:15:26.032000+0000', tz='UTC'),\n",
              " Timestamp('2019-08-03 13:15:54.786000+0000', tz='UTC'),\n",
              " Timestamp('2019-08-03 13:22:14.792000+0000', tz='UTC'),\n",
              " Timestamp('2019-08-03 13:23:47.179000+0000', tz='UTC'),\n",
              " Timestamp('2019-08-02 07:28:04.521000+0000', tz='UTC'),\n",
              " Timestamp('2019-08-02 07:28:06.578000+0000', tz='UTC'),\n",
              " Timestamp('2019-08-02 07:43:24.346000+0000', tz='UTC')]"
            ]
          },
          "metadata": {
            "tags": []
          },
          "execution_count": 203
        }
      ]
    },
    {
      "cell_type": "code",
      "metadata": {
        "id": "3yZSdRekttYh"
      },
      "source": [
        ""
      ],
      "execution_count": null,
      "outputs": []
    }
  ]
}